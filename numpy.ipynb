{
  "nbformat": 4,
  "nbformat_minor": 0,
  "metadata": {
    "colab": {
      "provenance": [],
      "authorship_tag": "ABX9TyN29bCvAW+1iuZW/3s0EUm8",
      "include_colab_link": true
    },
    "kernelspec": {
      "name": "python3",
      "display_name": "Python 3"
    },
    "language_info": {
      "name": "python"
    }
  },
  "cells": [
    {
      "cell_type": "markdown",
      "metadata": {
        "id": "view-in-github",
        "colab_type": "text"
      },
      "source": [
        "<a href=\"https://colab.research.google.com/github/srikanth15650/test/blob/main/numpy.ipynb\" target=\"_parent\"><img src=\"https://colab.research.google.com/assets/colab-badge.svg\" alt=\"Open In Colab\"/></a>"
      ]
    },
    {
      "cell_type": "code",
      "execution_count": null,
      "metadata": {
        "id": "Y2v8YcC82c-O"
      },
      "outputs": [],
      "source": []
    },
    {
      "cell_type": "code",
      "source": [
        "import numpy as np"
      ],
      "metadata": {
        "id": "TBZU7tRP3B7S"
      },
      "execution_count": 4,
      "outputs": []
    },
    {
      "cell_type": "code",
      "source": [
        "temperatures  = np.array([ 1, 2, 3, 4, 5,\n",
        "                          6, 7, 8, 9, 10,\n",
        "                           11, 12, 13, 14, 15,\n",
        "                           16, 17, 18, 19, 20,\n",
        "                           21, 22, 23, 24, 25,\n",
        "                           26, 27, 28, 29, 30])"
      ],
      "metadata": {
        "id": "kG_qhU7q221f"
      },
      "execution_count": 5,
      "outputs": []
    },
    {
      "cell_type": "code",
      "source": [
        "print(temperatures)"
      ],
      "metadata": {
        "colab": {
          "base_uri": "https://localhost:8080/"
        },
        "id": "QLl4de0U3FKG",
        "outputId": "c0a14af4-f629-46aa-da9e-8e6206ba043a"
      },
      "execution_count": 6,
      "outputs": [
        {
          "output_type": "stream",
          "name": "stdout",
          "text": [
            "[ 1  2  3  4  5  6  7  8  9 10 11 12 13 14 15 16 17 18 19 20 21 22 23 24\n",
            " 25 26 27 28 29 30]\n"
          ]
        }
      ]
    },
    {
      "cell_type": "code",
      "source": [
        "print(f\"Shape: {temperatures.shape}\")\n",
        "print(f\"Shape: {temperatures.size}\")\n",
        "print(f\"Shape: {temperatures.dtype}\")"
      ],
      "metadata": {
        "colab": {
          "base_uri": "https://localhost:8080/"
        },
        "id": "x_jyDS453P_k",
        "outputId": "1128ffb2-f8f0-49d8-b798-cc019c2c381a"
      },
      "execution_count": 7,
      "outputs": [
        {
          "output_type": "stream",
          "name": "stdout",
          "text": [
            "Shape: (30,)\n",
            "Shape: 30\n",
            "Shape: int64\n"
          ]
        }
      ]
    },
    {
      "cell_type": "code",
      "source": [
        "temperatures_reshaped = temperatures.reshape(5,6)"
      ],
      "metadata": {
        "id": "BO3KaDH326Es"
      },
      "execution_count": 10,
      "outputs": []
    },
    {
      "cell_type": "code",
      "source": [
        "print(f\"Shape: {temperatures_reshaped.shape}\")\n",
        "print(f\"Shape: {temperatures_reshaped.size}\")\n",
        "print(f\"Shape: {temperatures_reshaped.dtype}\")\n",
        "print(temperatures_reshaped)"
      ],
      "metadata": {
        "colab": {
          "base_uri": "https://localhost:8080/"
        },
        "id": "TgOvp-yF3AlI",
        "outputId": "89488f7d-6a14-4f4a-eb54-721d71e8a9ad"
      },
      "execution_count": 25,
      "outputs": [
        {
          "output_type": "stream",
          "name": "stdout",
          "text": [
            "Shape: (5, 6)\n",
            "Shape: 30\n",
            "Shape: int64\n",
            "[[ 1  2  3  4  5  6]\n",
            " [ 7  8  9 10 11 12]\n",
            " [13 14 15 16 17 18]\n",
            " [19 20 21 22 23 24]\n",
            " [25 26 27 28 29 30]]\n"
          ]
        }
      ]
    },
    {
      "cell_type": "code",
      "source": [
        "first_week_temperatures = temperatures_reshaped[0]\n",
        "print(first_week_temperatures)"
      ],
      "metadata": {
        "colab": {
          "base_uri": "https://localhost:8080/"
        },
        "id": "xrXvMlJU32j8",
        "outputId": "b4167862-ad79-4ddf-ae09-5a1fef588533"
      },
      "execution_count": 24,
      "outputs": [
        {
          "output_type": "stream",
          "name": "stdout",
          "text": [
            "[1 2 3 4 5 6]\n"
          ]
        }
      ]
    },
    {
      "cell_type": "code",
      "source": [
        "second_week_temperatures = temperatures_reshaped[1]\n",
        "print(second_week_temperatures)"
      ],
      "metadata": {
        "colab": {
          "base_uri": "https://localhost:8080/"
        },
        "id": "Za9QICKB4Elk",
        "outputId": "104dd44a-2132-4518-f8d9-799d196a4d74"
      },
      "execution_count": 19,
      "outputs": [
        {
          "output_type": "stream",
          "name": "stdout",
          "text": [
            "[ 7  8  9 10 11 12]\n"
          ]
        }
      ]
    },
    {
      "cell_type": "code",
      "source": [
        "second_week_fourth_day_temperatures = temperatures_reshaped[1,3]\n",
        "print(f\"second_week_temperatures {second_week_fourth_day_temperatures}\")\n"
      ],
      "metadata": {
        "colab": {
          "base_uri": "https://localhost:8080/"
        },
        "id": "m7ttLqKzPzWr",
        "outputId": "7a422eee-e2f2-4e56-9f9b-be1ca9d31538"
      },
      "execution_count": 20,
      "outputs": [
        {
          "output_type": "stream",
          "name": "stdout",
          "text": [
            "second_week_temperatures 10\n"
          ]
        }
      ]
    },
    {
      "cell_type": "code",
      "source": [
        "tue_temps = temperatures_reshaped[0:4, 1]\n",
        "\n",
        "print(tue_temps)\n"
      ],
      "metadata": {
        "colab": {
          "base_uri": "https://localhost:8080/"
        },
        "id": "lX93xUFRTJGL",
        "outputId": "9945e2d3-3bca-430e-f412-fd5b7ab3871b"
      },
      "execution_count": 55,
      "outputs": [
        {
          "output_type": "stream",
          "name": "stdout",
          "text": [
            "[ 2  8 14 20]\n"
          ]
        }
      ]
    },
    {
      "cell_type": "code",
      "source": [
        "print(tue_temps.shape)\n",
        "print(tue_temps.ndim)"
      ],
      "metadata": {
        "colab": {
          "base_uri": "https://localhost:8080/"
        },
        "id": "2m7wwmiqT_47",
        "outputId": "090eddf6-c1c8-4b0a-d7e9-85d212f49ffc"
      },
      "execution_count": 58,
      "outputs": [
        {
          "output_type": "stream",
          "name": "stdout",
          "text": [
            "(4,)\n",
            "1\n"
          ]
        }
      ]
    },
    {
      "cell_type": "markdown",
      "source": [
        "Broadcasting\n"
      ],
      "metadata": {
        "id": "FddDw2jaQEpn"
      }
    },
    {
      "cell_type": "code",
      "source": [
        "temp_fahrenheit = temperatures_reshaped * 9 / 5 + 32"
      ],
      "metadata": {
        "id": "aZiSE9sJQGCF"
      },
      "execution_count": 26,
      "outputs": []
    },
    {
      "cell_type": "code",
      "source": [
        "print(temp_fahrenheit)"
      ],
      "metadata": {
        "colab": {
          "base_uri": "https://localhost:8080/"
        },
        "id": "IIV7ijQcQPfB",
        "outputId": "700d0db1-6031-4873-abbb-26f2d28a071e"
      },
      "execution_count": 27,
      "outputs": [
        {
          "output_type": "stream",
          "name": "stdout",
          "text": [
            "[[33.8 35.6 37.4 39.2 41.  42.8]\n",
            " [44.6 46.4 48.2 50.  51.8 53.6]\n",
            " [55.4 57.2 59.  60.8 62.6 64.4]\n",
            " [66.2 68.  69.8 71.6 73.4 75.2]\n",
            " [77.  78.8 80.6 82.4 84.2 86. ]]\n"
          ]
        }
      ]
    },
    {
      "cell_type": "code",
      "source": [
        "cooler_days = temperatures [ temperatures <= 25]"
      ],
      "metadata": {
        "id": "8BN7szQzQdw-"
      },
      "execution_count": 30,
      "outputs": []
    },
    {
      "cell_type": "code",
      "source": [
        "print(cooler_days)"
      ],
      "metadata": {
        "colab": {
          "base_uri": "https://localhost:8080/"
        },
        "id": "-oyiYkPLQpkK",
        "outputId": "8f354901-6523-43c2-b950-da8d8a0fe0f7"
      },
      "execution_count": 31,
      "outputs": [
        {
          "output_type": "stream",
          "name": "stdout",
          "text": [
            "[ 1  2  3  4  5  6  7  8  9 10 11 12 13 14 15 16 17 18 19 20 21 22 23 24\n",
            " 25]\n"
          ]
        }
      ]
    },
    {
      "cell_type": "code",
      "source": [
        "matrix = np.array([[34, 2, 2],[1, 4, 5],[25, 2, 5],[55, 2 ,1]])\n",
        "print(matrix)"
      ],
      "metadata": {
        "colab": {
          "base_uri": "https://localhost:8080/"
        },
        "id": "sncEuL6pQyZZ",
        "outputId": "edac0131-b95f-4054-d3de-882defd6a4de"
      },
      "execution_count": 32,
      "outputs": [
        {
          "output_type": "stream",
          "name": "stdout",
          "text": [
            "[[34  2  2]\n",
            " [ 1  4  5]\n",
            " [25  2  5]\n",
            " [55  2  1]]\n"
          ]
        }
      ]
    },
    {
      "cell_type": "code",
      "source": [
        "matrix + 10"
      ],
      "metadata": {
        "colab": {
          "base_uri": "https://localhost:8080/"
        },
        "id": "kHWHVEHZRjyo",
        "outputId": "9743df34-dfea-4788-889a-c816d10e92fd"
      },
      "execution_count": 33,
      "outputs": [
        {
          "output_type": "execute_result",
          "data": {
            "text/plain": [
              "array([[44, 12, 12],\n",
              "       [11, 14, 15],\n",
              "       [35, 12, 15],\n",
              "       [65, 12, 11]])"
            ]
          },
          "metadata": {},
          "execution_count": 33
        }
      ]
    },
    {
      "cell_type": "code",
      "source": [
        "m2 = np.array([1 ,10, 100])\n",
        "matrix + m2"
      ],
      "metadata": {
        "colab": {
          "base_uri": "https://localhost:8080/"
        },
        "id": "OTXQxr_fRmpq",
        "outputId": "561c8a78-b5ec-4ba9-e313-c2c55dcb00ed"
      },
      "execution_count": 34,
      "outputs": [
        {
          "output_type": "execute_result",
          "data": {
            "text/plain": [
              "array([[ 35,  12, 102],\n",
              "       [  2,  14, 105],\n",
              "       [ 26,  12, 105],\n",
              "       [ 56,  12, 101]])"
            ]
          },
          "metadata": {},
          "execution_count": 34
        }
      ]
    },
    {
      "cell_type": "code",
      "source": [
        "matrix * m2"
      ],
      "metadata": {
        "colab": {
          "base_uri": "https://localhost:8080/"
        },
        "id": "_ONqyNq4R1yi",
        "outputId": "85c3f525-1765-45d9-c2fd-7d63b10afbbd"
      },
      "execution_count": 35,
      "outputs": [
        {
          "output_type": "execute_result",
          "data": {
            "text/plain": [
              "array([[ 34,  20, 200],\n",
              "       [  1,  40, 500],\n",
              "       [ 25,  20, 500],\n",
              "       [ 55,  20, 100]])"
            ]
          },
          "metadata": {},
          "execution_count": 35
        }
      ]
    },
    {
      "cell_type": "code",
      "source": [
        "m3 = np.array([[2],\n",
        "      [4],\n",
        "      [5],\n",
        "      [6]])\n",
        "print(m3)\n",
        "print(m3.ndim)"
      ],
      "metadata": {
        "colab": {
          "base_uri": "https://localhost:8080/"
        },
        "id": "aJY83U4YSAqw",
        "outputId": "b8656793-aaaa-4281-ae5e-a319055c1f13"
      },
      "execution_count": 68,
      "outputs": [
        {
          "output_type": "stream",
          "name": "stdout",
          "text": [
            "[[2]\n",
            " [4]\n",
            " [5]\n",
            " [6]]\n",
            "2\n"
          ]
        }
      ]
    },
    {
      "cell_type": "code",
      "source": [
        "matrix / m3"
      ],
      "metadata": {
        "colab": {
          "base_uri": "https://localhost:8080/"
        },
        "id": "BTa3MZK0SHdV",
        "outputId": "55df14c0-cebf-4a9d-f825-94ad87ddf06e"
      },
      "execution_count": 69,
      "outputs": [
        {
          "output_type": "execute_result",
          "data": {
            "text/plain": [
              "array([[17.        ,  1.        ,  1.        ],\n",
              "       [ 0.25      ,  1.        ,  1.25      ],\n",
              "       [ 5.        ,  0.4       ,  1.        ],\n",
              "       [ 9.16666667,  0.33333333,  0.16666667]])"
            ]
          },
          "metadata": {},
          "execution_count": 69
        }
      ]
    },
    {
      "cell_type": "code",
      "source": [
        "m4 = np.array([[3, 4, 5],\n",
        "              [4, 5, 6],\n",
        "              [9, 8, 9],\n",
        "              [32, 4, 5]])"
      ],
      "metadata": {
        "id": "lLQ00ZnLSJmW"
      },
      "execution_count": 41,
      "outputs": []
    },
    {
      "cell_type": "code",
      "source": [
        "matrix + m4"
      ],
      "metadata": {
        "colab": {
          "base_uri": "https://localhost:8080/"
        },
        "id": "6rNB-nX-Soue",
        "outputId": "8c6dfd39-56b6-4667-d1cf-6a0ce815f45d"
      },
      "execution_count": 42,
      "outputs": [
        {
          "output_type": "execute_result",
          "data": {
            "text/plain": [
              "array([[37,  6,  7],\n",
              "       [ 5,  9, 11],\n",
              "       [34, 10, 14],\n",
              "       [87,  6,  6]])"
            ]
          },
          "metadata": {},
          "execution_count": 42
        }
      ]
    },
    {
      "cell_type": "code",
      "source": [
        "numpy_array = np.array([[1, 3, 4, 5] ])\n",
        "python_list = [1, 3, 5, 6]\n",
        "print()\n",
        "print(python_list)\n",
        "print(numpy_array)\n"
      ],
      "metadata": {
        "colab": {
          "base_uri": "https://localhost:8080/"
        },
        "id": "P76Wz3NySrjf",
        "outputId": "b3cfcd99-cccc-4cb2-eba0-9ebbc5205692"
      },
      "execution_count": 76,
      "outputs": [
        {
          "output_type": "stream",
          "name": "stdout",
          "text": [
            "\n",
            "[1, 3, 5, 6]\n",
            "[[1 3 4 5]]\n"
          ]
        }
      ]
    },
    {
      "cell_type": "code",
      "source": [
        "%timeit sum(python_list)\n",
        "%timeit np.sum(numpy_array)"
      ],
      "metadata": {
        "colab": {
          "base_uri": "https://localhost:8080/"
        },
        "id": "CL2HmRN3hA1a",
        "outputId": "93a7685d-9e73-4850-c0a1-9e0e0a9865c4"
      },
      "execution_count": 78,
      "outputs": [
        {
          "output_type": "stream",
          "name": "stdout",
          "text": [
            "117 ns ± 30 ns per loop (mean ± std. dev. of 7 runs, 10000000 loops each)\n",
            "3.45 µs ± 59.8 ns per loop (mean ± std. dev. of 7 runs, 100000 loops each)\n"
          ]
        }
      ]
    },
    {
      "cell_type": "code",
      "source": [
        "image = np.ones((3, 3, 3))*100\n",
        "print(image)\n",
        "brightness_factor = 1.5\n",
        "adjusted_image = image * brightness_factor\n",
        "adjusted_image = np.clip(adjusted_image, 0, 255)\n",
        "print(adjusted_image)\n"
      ],
      "metadata": {
        "colab": {
          "base_uri": "https://localhost:8080/"
        },
        "id": "i9YuMiMahvQf",
        "outputId": "33df10d1-003c-4282-f4fb-ebcb76a7e6af"
      },
      "execution_count": 85,
      "outputs": [
        {
          "output_type": "stream",
          "name": "stdout",
          "text": [
            "[[[100. 100. 100.]\n",
            "  [100. 100. 100.]\n",
            "  [100. 100. 100.]]\n",
            "\n",
            " [[100. 100. 100.]\n",
            "  [100. 100. 100.]\n",
            "  [100. 100. 100.]]\n",
            "\n",
            " [[100. 100. 100.]\n",
            "  [100. 100. 100.]\n",
            "  [100. 100. 100.]]]\n",
            "[[[150. 150. 150.]\n",
            "  [150. 150. 150.]\n",
            "  [150. 150. 150.]]\n",
            "\n",
            " [[150. 150. 150.]\n",
            "  [150. 150. 150.]\n",
            "  [150. 150. 150.]]\n",
            "\n",
            " [[150. 150. 150.]\n",
            "  [150. 150. 150.]\n",
            "  [150. 150. 150.]]]\n"
          ]
        }
      ]
    },
    {
      "cell_type": "code",
      "source": [
        "import matplotlib.pyplot as plt\n",
        "fig,ax  = plt.subplots(1, 2, figsize = (10, 5) )\n",
        "ax[0].imshow(image.astype(np.uint8))\n",
        "ax[0].title.set_text('Original image')\n",
        "ax[0].axis('off')\n",
        "ax[1].imshow(adjusted_image.astype(np.uint8))\n",
        "ax[1].title.set_text('adjusted image')\n",
        "ax[1].axis('off')\n",
        "plt.show()"
      ],
      "metadata": {
        "colab": {
          "base_uri": "https://localhost:8080/",
          "height": 411
        },
        "id": "Ep8PW5DXlLjL",
        "outputId": "cb8f8ff0-f16b-4a64-9e9d-2e59118d2bb3"
      },
      "execution_count": 96,
      "outputs": [
        {
          "output_type": "display_data",
          "data": {
            "text/plain": [
              "<Figure size 1000x500 with 2 Axes>"
            ],
            "image/png": "[encoded data removed]"
          },
          "metadata": {}
        }
      ]
    },
    {
      "cell_type": "code",
      "source": [
        "features = np.array([[10, 2.27, 3.6],\n",
        "                      [-100, 5.1, -2.9],\n",
        "                      [50, 2, 2],\n",
        "                      [40, 4.5, -4.5]\n",
        "                      ])\n",
        "mean = np.mean(features)\n",
        "std_dev = np.std(features)\n",
        "standardized_features = (features - mean) /std_dev\n",
        "print(standardized_features)\n"
      ],
      "metadata": {
        "colab": {
          "base_uri": "https://localhost:8080/"
        },
        "id": "ywu9QlnblRJN",
        "outputId": "4375e163-8575-48ca-bd9e-94116e583461"
      },
      "execution_count": 115,
      "outputs": [
        {
          "output_type": "stream",
          "name": "stdout",
          "text": [
            "[[ 0.26064672  0.03663496  0.07517773]\n",
            " [-2.92710158  0.11864703 -0.11318921]\n",
            " [ 1.41982793  0.02881048  0.02881048]\n",
            " [ 1.13003263  0.10125931 -0.15955646]]\n"
          ]
        }
      ]
    },
    {
      "cell_type": "code",
      "source": [
        "\n"
      ],
      "metadata": {
        "id": "5n11ajqslzUC"
      },
      "execution_count": null,
      "outputs": []
    }
  ]
}