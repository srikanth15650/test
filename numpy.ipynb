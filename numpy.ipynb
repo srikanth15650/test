{
  "nbformat": 4,
  "nbformat_minor": 0,
  "metadata": {
    "colab": {
      "provenance": [],
      "authorship_tag": "ABX9TyPujZKxiNqbg5IW5skKql9+",
      "include_colab_link": true
    },
    "kernelspec": {
      "name": "python3",
      "display_name": "Python 3"
    },
    "language_info": {
      "name": "python"
    }
  },
  "cells": [
    {
      "cell_type": "markdown",
      "metadata": {
        "id": "view-in-github",
        "colab_type": "text"
      },
      "source": [
        "<a href=\"https://colab.research.google.com/github/srikanth15650/test/blob/main/numpy.ipynb\" target=\"_parent\"><img src=\"https://colab.research.google.com/assets/colab-badge.svg\" alt=\"Open In Colab\"/></a>"
      ]
    },
    {
      "cell_type": "code",
      "execution_count": null,
      "metadata": {
        "id": "Y2v8YcC82c-O"
      },
      "outputs": [],
      "source": []
    },
    {
      "cell_type": "code",
      "source": [
        "import numpy as np"
      ],
      "metadata": {
        "id": "TBZU7tRP3B7S"
      },
      "execution_count": 4,
      "outputs": []
    },
    {
      "cell_type": "code",
      "source": [
        "temperatures  = np.array([ 1, 2, 3, 4, 5,\n",
        "                          6, 7, 8, 9, 10,\n",
        "                           11, 12, 13, 14, 15,\n",
        "                           16, 17, 18, 19, 20,\n",
        "                           21, 22, 23, 24, 25,\n",
        "                           26, 27, 28, 29, 30])"
      ],
      "metadata": {
        "id": "kG_qhU7q221f"
      },
      "execution_count": 5,
      "outputs": []
    },
    {
      "cell_type": "code",
      "source": [
        "print(temperatures)"
      ],
      "metadata": {
        "colab": {
          "base_uri": "https://localhost:8080/"
        },
        "id": "QLl4de0U3FKG",
        "outputId": "c0a14af4-f629-46aa-da9e-8e6206ba043a"
      },
      "execution_count": 6,
      "outputs": [
        {
          "output_type": "stream",
          "name": "stdout",
          "text": [
            "[ 1  2  3  4  5  6  7  8  9 10 11 12 13 14 15 16 17 18 19 20 21 22 23 24\n",
            " 25 26 27 28 29 30]\n"
          ]
        }
      ]
    },
    {
      "cell_type": "code",
      "source": [
        "print(f\"Shape: {temperatures.shape}\")\n",
        "print(f\"Shape: {temperatures.size}\")\n",
        "print(f\"Shape: {temperatures.dtype}\")"
      ],
      "metadata": {
        "colab": {
          "base_uri": "https://localhost:8080/"
        },
        "id": "x_jyDS453P_k",
        "outputId": "1128ffb2-f8f0-49d8-b798-cc019c2c381a"
      },
      "execution_count": 7,
      "outputs": [
        {
          "output_type": "stream",
          "name": "stdout",
          "text": [
            "Shape: (30,)\n",
            "Shape: 30\n",
            "Shape: int64\n"
          ]
        }
      ]
    },
    {
      "cell_type": "code",
      "source": [
        "temperatures_reshaped = temperatures.reshape(5,6)"
      ],
      "metadata": {
        "id": "BO3KaDH326Es"
      },
      "execution_count": 10,
      "outputs": []
    },
    {
      "cell_type": "code",
      "source": [
        "print(f\"Shape: {temperatures_reshaped.shape}\")\n",
        "print(f\"Shape: {temperatures_reshaped.size}\")\n",
        "print(f\"Shape: {temperatures_reshaped.dtype}\")\n",
        "print(temperatures_reshaped)"
      ],
      "metadata": {
        "colab": {
          "base_uri": "https://localhost:8080/"
        },
        "id": "TgOvp-yF3AlI",
        "outputId": "89488f7d-6a14-4f4a-eb54-721d71e8a9ad"
      },
      "execution_count": 25,
      "outputs": [
        {
          "output_type": "stream",
          "name": "stdout",
          "text": [
            "Shape: (5, 6)\n",
            "Shape: 30\n",
            "Shape: int64\n",
            "[[ 1  2  3  4  5  6]\n",
            " [ 7  8  9 10 11 12]\n",
            " [13 14 15 16 17 18]\n",
            " [19 20 21 22 23 24]\n",
            " [25 26 27 28 29 30]]\n"
          ]
        }
      ]
    },
    {
      "cell_type": "code",
      "source": [
        "first_week_temperatures = temperatures_reshaped[0]\n",
        "print(first_week_temperatures)"
      ],
      "metadata": {
        "colab": {
          "base_uri": "https://localhost:8080/"
        },
        "id": "xrXvMlJU32j8",
        "outputId": "b4167862-ad79-4ddf-ae09-5a1fef588533"
      },
      "execution_count": 24,
      "outputs": [
        {
          "output_type": "stream",
          "name": "stdout",
          "text": [
            "[1 2 3 4 5 6]\n"
          ]
        }
      ]
    },
    {
      "cell_type": "code",
      "source": [
        "second_week_temperatures = temperatures_reshaped[1]\n",
        "print(second_week_temperatures)"
      ],
      "metadata": {
        "colab": {
          "base_uri": "https://localhost:8080/"
        },
        "id": "Za9QICKB4Elk",
        "outputId": "104dd44a-2132-4518-f8d9-799d196a4d74"
      },
      "execution_count": 19,
      "outputs": [
        {
          "output_type": "stream",
          "name": "stdout",
          "text": [
            "[ 7  8  9 10 11 12]\n"
          ]
        }
      ]
    },
    {
      "cell_type": "code",
      "source": [
        "second_week_fourth_day_temperatures = temperatures_reshaped[1,3]\n",
        "print(f\"second_week_temperatures {second_week_fourth_day_temperatures}\")\n"
      ],
      "metadata": {
        "colab": {
          "base_uri": "https://localhost:8080/"
        },
        "id": "m7ttLqKzPzWr",
        "outputId": "7a422eee-e2f2-4e56-9f9b-be1ca9d31538"
      },
      "execution_count": 20,
      "outputs": [
        {
          "output_type": "stream",
          "name": "stdout",
          "text": [
            "second_week_temperatures 10\n"
          ]
        }
      ]
    },
    {
      "cell_type": "code",
      "source": [
        "tue_temps = temperatures_reshaped[0:4, 1]\n",
        "\n",
        "print(tue_temps)"
      ],
      "metadata": {
        "colab": {
          "base_uri": "https://localhost:8080/"
        },
        "id": "lX93xUFRTJGL",
        "outputId": "660a7b04-262b-40cb-8025-89dc9e6908ed"
      },
      "execution_count": 51,
      "outputs": [
        {
          "output_type": "stream",
          "name": "stdout",
          "text": [
            "[ 2  8 14 20]\n"
          ]
        }
      ]
    },
    {
      "cell_type": "markdown",
      "source": [
        "Broadcasting\n"
      ],
      "metadata": {
        "id": "FddDw2jaQEpn"
      }
    },
    {
      "cell_type": "code",
      "source": [
        "temp_fahrenheit = temperatures_reshaped * 9 / 5 + 32"
      ],
      "metadata": {
        "id": "aZiSE9sJQGCF"
      },
      "execution_count": 26,
      "outputs": []
    },
    {
      "cell_type": "code",
      "source": [
        "print(temp_fahrenheit)"
      ],
      "metadata": {
        "colab": {
          "base_uri": "https://localhost:8080/"
        },
        "id": "IIV7ijQcQPfB",
        "outputId": "700d0db1-6031-4873-abbb-26f2d28a071e"
      },
      "execution_count": 27,
      "outputs": [
        {
          "output_type": "stream",
          "name": "stdout",
          "text": [
            "[[33.8 35.6 37.4 39.2 41.  42.8]\n",
            " [44.6 46.4 48.2 50.  51.8 53.6]\n",
            " [55.4 57.2 59.  60.8 62.6 64.4]\n",
            " [66.2 68.  69.8 71.6 73.4 75.2]\n",
            " [77.  78.8 80.6 82.4 84.2 86. ]]\n"
          ]
        }
      ]
    },
    {
      "cell_type": "code",
      "source": [
        "cooler_days = temperatures [ temperatures <= 25]"
      ],
      "metadata": {
        "id": "8BN7szQzQdw-"
      },
      "execution_count": 30,
      "outputs": []
    },
    {
      "cell_type": "code",
      "source": [
        "print(cooler_days)"
      ],
      "metadata": {
        "colab": {
          "base_uri": "https://localhost:8080/"
        },
        "id": "-oyiYkPLQpkK",
        "outputId": "8f354901-6523-43c2-b950-da8d8a0fe0f7"
      },
      "execution_count": 31,
      "outputs": [
        {
          "output_type": "stream",
          "name": "stdout",
          "text": [
            "[ 1  2  3  4  5  6  7  8  9 10 11 12 13 14 15 16 17 18 19 20 21 22 23 24\n",
            " 25]\n"
          ]
        }
      ]
    },
    {
      "cell_type": "code",
      "source": [
        "matrix = np.array([[34, 2, 2],[1, 4, 5],[25, 2, 5],[55, 2 ,1]])\n",
        "print(matrix)"
      ],
      "metadata": {
        "colab": {
          "base_uri": "https://localhost:8080/"
        },
        "id": "sncEuL6pQyZZ",
        "outputId": "edac0131-b95f-4054-d3de-882defd6a4de"
      },
      "execution_count": 32,
      "outputs": [
        {
          "output_type": "stream",
          "name": "stdout",
          "text": [
            "[[34  2  2]\n",
            " [ 1  4  5]\n",
            " [25  2  5]\n",
            " [55  2  1]]\n"
          ]
        }
      ]
    },
    {
      "cell_type": "code",
      "source": [
        "matrix + 10"
      ],
      "metadata": {
        "colab": {
          "base_uri": "https://localhost:8080/"
        },
        "id": "kHWHVEHZRjyo",
        "outputId": "9743df34-dfea-4788-889a-c816d10e92fd"
      },
      "execution_count": 33,
      "outputs": [
        {
          "output_type": "execute_result",
          "data": {
            "text/plain": [
              "array([[44, 12, 12],\n",
              "       [11, 14, 15],\n",
              "       [35, 12, 15],\n",
              "       [65, 12, 11]])"
            ]
          },
          "metadata": {},
          "execution_count": 33
        }
      ]
    },
    {
      "cell_type": "code",
      "source": [
        "m2 = np.array([1 ,10, 100])\n",
        "matrix + m2"
      ],
      "metadata": {
        "colab": {
          "base_uri": "https://localhost:8080/"
        },
        "id": "OTXQxr_fRmpq",
        "outputId": "561c8a78-b5ec-4ba9-e313-c2c55dcb00ed"
      },
      "execution_count": 34,
      "outputs": [
        {
          "output_type": "execute_result",
          "data": {
            "text/plain": [
              "array([[ 35,  12, 102],\n",
              "       [  2,  14, 105],\n",
              "       [ 26,  12, 105],\n",
              "       [ 56,  12, 101]])"
            ]
          },
          "metadata": {},
          "execution_count": 34
        }
      ]
    },
    {
      "cell_type": "code",
      "source": [
        "matrix * m2"
      ],
      "metadata": {
        "colab": {
          "base_uri": "https://localhost:8080/"
        },
        "id": "_ONqyNq4R1yi",
        "outputId": "85c3f525-1765-45d9-c2fd-7d63b10afbbd"
      },
      "execution_count": 35,
      "outputs": [
        {
          "output_type": "execute_result",
          "data": {
            "text/plain": [
              "array([[ 34,  20, 200],\n",
              "       [  1,  40, 500],\n",
              "       [ 25,  20, 500],\n",
              "       [ 55,  20, 100]])"
            ]
          },
          "metadata": {},
          "execution_count": 35
        }
      ]
    },
    {
      "cell_type": "code",
      "source": [
        "m3 = ([2],\n",
        "      [4],\n",
        "      [5],\n",
        "      [6])"
      ],
      "metadata": {
        "id": "aJY83U4YSAqw"
      },
      "execution_count": 36,
      "outputs": []
    },
    {
      "cell_type": "code",
      "source": [
        "matrix / m3"
      ],
      "metadata": {
        "colab": {
          "base_uri": "https://localhost:8080/"
        },
        "id": "BTa3MZK0SHdV",
        "outputId": "0df80dc3-4266-4345-86c1-359072f6311b"
      },
      "execution_count": 37,
      "outputs": [
        {
          "output_type": "execute_result",
          "data": {
            "text/plain": [
              "array([[17.        ,  1.        ,  1.        ],\n",
              "       [ 0.25      ,  1.        ,  1.25      ],\n",
              "       [ 5.        ,  0.4       ,  1.        ],\n",
              "       [ 9.16666667,  0.33333333,  0.16666667]])"
            ]
          },
          "metadata": {},
          "execution_count": 37
        }
      ]
    },
    {
      "cell_type": "code",
      "source": [
        "m4 = np.array([[3, 4, 5],\n",
        "              [4, 5, 6],\n",
        "              [9, 8, 9],\n",
        "              [32, 4, 5]])"
      ],
      "metadata": {
        "id": "lLQ00ZnLSJmW"
      },
      "execution_count": 41,
      "outputs": []
    },
    {
      "cell_type": "code",
      "source": [
        "matrix + m4"
      ],
      "metadata": {
        "colab": {
          "base_uri": "https://localhost:8080/"
        },
        "id": "6rNB-nX-Soue",
        "outputId": "8c6dfd39-56b6-4667-d1cf-6a0ce815f45d"
      },
      "execution_count": 42,
      "outputs": [
        {
          "output_type": "execute_result",
          "data": {
            "text/plain": [
              "array([[37,  6,  7],\n",
              "       [ 5,  9, 11],\n",
              "       [34, 10, 14],\n",
              "       [87,  6,  6]])"
            ]
          },
          "metadata": {},
          "execution_count": 42
        }
      ]
    },
    {
      "cell_type": "code",
      "source": [],
      "metadata": {
        "id": "P76Wz3NySrjf"
      },
      "execution_count": null,
      "outputs": []
    }
  ]
}