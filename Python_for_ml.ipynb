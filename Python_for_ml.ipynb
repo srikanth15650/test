{
  "nbformat": 4,
  "nbformat_minor": 0,
  "metadata": {
    "colab": {
      "provenance": [],
      "authorship_tag": "ABX9TyPs1OQ2NjSQgzNFs/Bnjnad",
      "include_colab_link": true
    },
    "kernelspec": {
      "name": "python3",
      "display_name": "Python 3"
    },
    "language_info": {
      "name": "python"
    }
  },
  "cells": [
    {
      "cell_type": "markdown",
      "metadata": {
        "id": "view-in-github",
        "colab_type": "text"
      },
      "source": [
        "<a href=\"https://colab.research.google.com/github/srikanth15650/test/blob/main/Python_for_ml.ipynb\" target=\"_parent\"><img src=\"https://colab.research.google.com/assets/colab-badge.svg\" alt=\"Open In Colab\"/></a>"
      ]
    },
    {
      "cell_type": "code",
      "execution_count": null,
      "metadata": {
        "colab": {
          "base_uri": "https://localhost:8080/"
        },
        "id": "WbSWA5n5Lc9q",
        "outputId": "a91cbdb3-36d8-4900-9e81-5b7ee089dc5e"
      },
      "outputs": [
        {
          "output_type": "stream",
          "name": "stdout",
          "text": [
            "5\n",
            "6\n"
          ]
        }
      ],
      "source": [
        "def example_function():\n",
        "  local_var = 5\n",
        "  print(local_var)\n",
        "\n",
        "local_var = 6\n",
        "example_function()\n",
        "print(local_var)"
      ]
    },
    {
      "cell_type": "code",
      "source": [
        "def outer_function():\n",
        "    nonlocal_var = 10\n",
        "\n",
        "    def inner_function():\n",
        "      nonlocal nonlocal_var\n",
        "      nonlocal_var += 5\n",
        "\n",
        "    inner_function()\n",
        "    print(nonlocal_var)\n",
        "\n",
        "outer_function()"
      ],
      "metadata": {
        "colab": {
          "base_uri": "https://localhost:8080/"
        },
        "id": "IGOQTsNbLxsh",
        "outputId": "b6f17a6a-f18a-4873-abe8-01d6e706c132"
      },
      "execution_count": null,
      "outputs": [
        {
          "output_type": "stream",
          "name": "stdout",
          "text": [
            "15\n"
          ]
        }
      ]
    },
    {
      "cell_type": "code",
      "source": [
        "global_var = 20\n",
        "def example_function():\n",
        "  global global_var\n",
        "  global_var += 5\n",
        "\n",
        "print(global_var)\n",
        "example_function()\n",
        "print(global_var)"
      ],
      "metadata": {
        "colab": {
          "base_uri": "https://localhost:8080/"
        },
        "id": "1v3HPyUMN8zl",
        "outputId": "ce2798d8-e1cc-4761-c08f-53c64eeea0ef"
      },
      "execution_count": null,
      "outputs": [
        {
          "output_type": "stream",
          "name": "stdout",
          "text": [
            "20\n",
            "25\n"
          ]
        }
      ]
    },
    {
      "cell_type": "code",
      "source": [
        "class Student:\n",
        "\n",
        "  def __init__(self, name):\n",
        "      self.name = name\n",
        "\n",
        "  def study(self):\n",
        "    print(self.name, \"is studying\")\n"
      ],
      "metadata": {
        "id": "Th9aIH0VOMgI"
      },
      "execution_count": null,
      "outputs": []
    },
    {
      "cell_type": "code",
      "source": [
        "student1 = Student(\"John\")\n",
        "print(type(student1))\n",
        "student1.study()"
      ],
      "metadata": {
        "colab": {
          "base_uri": "https://localhost:8080/"
        },
        "id": "DTZW32Yhr2Vu",
        "outputId": "f9c2a80b-0895-4a61-a5bb-59484b3a5de6"
      },
      "execution_count": null,
      "outputs": [
        {
          "output_type": "stream",
          "name": "stdout",
          "text": [
            "<class '__main__.Student'>\n",
            "John is studying\n"
          ]
        }
      ]
    },
    {
      "cell_type": "code",
      "source": [
        "student2 = Student(\"Mary\")\n",
        "student2.study()\n",
        "\n"
      ],
      "metadata": {
        "colab": {
          "base_uri": "https://localhost:8080/"
        },
        "id": "4ieYLznhsMqJ",
        "outputId": "d0d0dc92-654f-4c48-ac6b-b6f645de516d"
      },
      "execution_count": null,
      "outputs": [
        {
          "output_type": "stream",
          "name": "stdout",
          "text": [
            "Mary is studying\n"
          ]
        }
      ]
    },
    {
      "cell_type": "code",
      "source": [
        "class Dog:\n",
        "    def __init__(self, name, age, weight):\n",
        "        self.name = name\n",
        "        self.age = age\n",
        "        self.weight = weight\n",
        "        print(\"Created a new object of the name \"+ name)\n",
        "\n",
        "    def walk(self):\n",
        "        print(\"I am walking\" + self.name)\n",
        "\n",
        "    def weigh(self):\n",
        "        print(self.name + \"'s has weight \" + str(self.weight))\n",
        "\n",
        "    def __repr__(self):\n",
        "        return \"Name \" + self.name + \" Age \" + str(self.age) + \" Weight \"+ str(self.weight)\n",
        "\n"
      ],
      "metadata": {
        "id": "fa5o4_pi8gsT"
      },
      "execution_count": null,
      "outputs": []
    },
    {
      "cell_type": "code",
      "source": [
        "dog1 = Dog(\"Sky\", 15, 15)\n",
        "dog1.walk()\n",
        "dog1.weigh()\n",
        "print(dog1)\n"
      ],
      "metadata": {
        "colab": {
          "base_uri": "https://localhost:8080/"
        },
        "id": "ShgBvY9A8jEb",
        "outputId": "1c5121ba-db50-482b-bdfe-18e9aee1830c"
      },
      "execution_count": null,
      "outputs": [
        {
          "output_type": "stream",
          "name": "stdout",
          "text": [
            "Created a new object of the name Sky\n",
            "I am walkingSky\n",
            "Sky's has weight 15\n",
            "Name Sky Age 15 Weight 15\n"
          ]
        }
      ]
    },
    {
      "cell_type": "code",
      "source": [
        "dog2 = Dog(\"second dog\", 15, 15)\n",
        "dog2.walk()\n",
        "dog2.weigh()\n",
        "print(dog2)\n",
        "\n",
        "\n"
      ],
      "metadata": {
        "id": "eBKuC7_ggaXh",
        "colab": {
          "base_uri": "https://localhost:8080/"
        },
        "outputId": "632d1a4c-cf82-4722-df5a-3b28e05e06c5"
      },
      "execution_count": null,
      "outputs": [
        {
          "output_type": "stream",
          "name": "stdout",
          "text": [
            "Created a new object of the name second dog\n",
            "I am walkingsecond dog\n",
            "second dog's has weight 15\n",
            "Name second dog Age 15 Weight 15\n"
          ]
        }
      ]
    },
    {
      "cell_type": "code",
      "source": [
        "my_list = []\n",
        "my_list.append(dog1)\n",
        "my_list.append(dog2)\n",
        "my_list.append(\"Dogs\")"
      ],
      "metadata": {
        "id": "cDP-SFMHsUEC"
      },
      "execution_count": null,
      "outputs": []
    },
    {
      "cell_type": "code",
      "source": [
        "my_list"
      ],
      "metadata": {
        "colab": {
          "base_uri": "https://localhost:8080/"
        },
        "id": "cnqHZ_cisqDh",
        "outputId": "10c47a7b-7e92-435d-caa3-5d901af82b84"
      },
      "execution_count": null,
      "outputs": [
        {
          "output_type": "execute_result",
          "data": {
            "text/plain": [
              "[Name Sky Age 15 Weight 15, Name second dog Age 15 Weight 15, 'Dogs']"
            ]
          },
          "metadata": {},
          "execution_count": 12
        }
      ]
    },
    {
      "cell_type": "code",
      "source": [
        "class Student:\n",
        "  def __init__(self, ID, name, gpa):\n",
        "    self.ID= ID\n",
        "    self.name =name\n",
        "    self.gpa = gpa\n",
        "\n",
        "  def __repr__(self):\n",
        "    return \"Student = \" + self.name\n",
        "\n",
        "class Course:\n",
        "  def __init__(self,name):\n",
        "    self.name = name\n",
        "    self.list_of_students = []\n",
        "\n",
        "  def add_a_student(self, student_obj):\n",
        "    self.list_of_students.append(student_obj)\n",
        "\n",
        "  def find_top(self):\n",
        "    max_gpa = 0\n",
        "    top_student = None\n",
        "    for student in self.list_of_students:\n",
        "       if(student.gpa > max_gpa):\n",
        "         max_gpa = student.gpa\n",
        "         top_student = student\n",
        "    return top_student"
      ],
      "metadata": {
        "id": "i0k6VFWgstMg"
      },
      "execution_count": null,
      "outputs": []
    },
    {
      "cell_type": "code",
      "source": [
        "student_A = Student(12, \"Mary\" , 4)\n",
        "student_B = Student(213, \"Bob\", 3)\n",
        "student_C = Student(47, \"Jill\", 2.5)\n",
        "\n",
        "math_course = Course(\"Math\")"
      ],
      "metadata": {
        "id": "IR4U-PTvt_SY"
      },
      "execution_count": null,
      "outputs": []
    },
    {
      "cell_type": "code",
      "source": [
        "math_course.add_a_student(student_A)\n",
        "math_course.add_a_student(student_B)\n",
        "math_course.add_a_student(student_C)\n"
      ],
      "metadata": {
        "id": "MqI4L0FJuUob"
      },
      "execution_count": null,
      "outputs": []
    },
    {
      "cell_type": "code",
      "source": [
        "print(math_course.list_of_students)"
      ],
      "metadata": {
        "colab": {
          "base_uri": "https://localhost:8080/"
        },
        "id": "YD6fowr8zQoq",
        "outputId": "9dfc9aa1-46c4-4e5c-80ee-c14cd989386a"
      },
      "execution_count": null,
      "outputs": [
        {
          "output_type": "stream",
          "name": "stdout",
          "text": [
            "[Student = Mary, Student = Bob, Student = Jill]\n"
          ]
        }
      ]
    },
    {
      "cell_type": "code",
      "source": [
        "top_student = math_course.find_top()"
      ],
      "metadata": {
        "id": "IcMr306lzacw"
      },
      "execution_count": null,
      "outputs": []
    },
    {
      "cell_type": "code",
      "source": [
        "print(\"The top student is \"+ top_student.name +\n",
        "      \" with GPA \" + str(top_student.gpa) +\n",
        "      \" with ID \" + str(top_student.ID))\n"
      ],
      "metadata": {
        "colab": {
          "base_uri": "https://localhost:8080/"
        },
        "id": "mzXrRn52zffe",
        "outputId": "eab8d987-b383-43b8-dab7-bf4d5b37a1fa"
      },
      "execution_count": null,
      "outputs": [
        {
          "output_type": "stream",
          "name": "stdout",
          "text": [
            "The top student is Mary with GPA 4 with ID 12\n"
          ]
        }
      ]
    },
    {
      "cell_type": "code",
      "source": [
        "class Employee:\n",
        "  def __init__(self, name, salary ):\n",
        "    self.name = name\n",
        "    self.salary = salary\n",
        "\n",
        "  def __repr__(self):\n",
        "    return '(' + self.name + ', ' + str(self.salary) +')'\n",
        "\n",
        "employee1 = Employee(\"Matt\" , 2000)\n"
      ],
      "metadata": {
        "id": "7puFay5Ez_c-"
      },
      "execution_count": null,
      "outputs": []
    },
    {
      "cell_type": "code",
      "source": [
        "hasattr(employee1, 'salary')"
      ],
      "metadata": {
        "colab": {
          "base_uri": "https://localhost:8080/"
        },
        "id": "335nFdjt0pXS",
        "outputId": "b52a5718-b789-431e-c223-70ef9e0a6c05"
      },
      "execution_count": null,
      "outputs": [
        {
          "output_type": "execute_result",
          "data": {
            "text/plain": [
              "True"
            ]
          },
          "metadata": {},
          "execution_count": 47
        }
      ]
    },
    {
      "cell_type": "code",
      "source": [
        "getattr(employee1, 'salary')"
      ],
      "metadata": {
        "colab": {
          "base_uri": "https://localhost:8080/"
        },
        "id": "c3nxPiBX0v8z",
        "outputId": "c76bc13a-748a-418e-d82d-631d9bac1f31"
      },
      "execution_count": null,
      "outputs": [
        {
          "output_type": "execute_result",
          "data": {
            "text/plain": [
              "2000"
            ]
          },
          "metadata": {},
          "execution_count": 48
        }
      ]
    },
    {
      "cell_type": "code",
      "source": [
        "setattr(employee1, 'salary', 7000)\n",
        "getattr(employee1, 'salary')"
      ],
      "metadata": {
        "colab": {
          "base_uri": "https://localhost:8080/"
        },
        "id": "cagGKZEl0yL1",
        "outputId": "7d079a88-11d0-44de-e591-fb4e157a9ba8"
      },
      "execution_count": null,
      "outputs": [
        {
          "output_type": "execute_result",
          "data": {
            "text/plain": [
              "7000"
            ]
          },
          "metadata": {},
          "execution_count": 57
        }
      ]
    },
    {
      "cell_type": "code",
      "source": [
        "delattr(employee1, 'salary')\n",
        "getattr(employee1, 'salary')\n"
      ],
      "metadata": {
        "colab": {
          "base_uri": "https://localhost:8080/",
          "height": 156
        },
        "id": "dSNaGLjV05Rh",
        "outputId": "af262691-7857-4cec-c645-706df1c4f36f"
      },
      "execution_count": null,
      "outputs": [
        {
          "output_type": "error",
          "ename": "AttributeError",
          "evalue": "'Employee' object has no attribute 'salary'",
          "traceback": [
            "\u001b[0;31m---------------------------------------------------------------------------\u001b[0m",
            "\u001b[0;31mAttributeError\u001b[0m                            Traceback (most recent call last)",
            "\u001b[0;32m<ipython-input-58-695d13515495>\u001b[0m in \u001b[0;36m<cell line: 0>\u001b[0;34m()\u001b[0m\n\u001b[1;32m      1\u001b[0m \u001b[0mdelattr\u001b[0m\u001b[0;34m(\u001b[0m\u001b[0memployee1\u001b[0m\u001b[0;34m,\u001b[0m \u001b[0;34m'salary'\u001b[0m\u001b[0;34m)\u001b[0m\u001b[0;34m\u001b[0m\u001b[0;34m\u001b[0m\u001b[0m\n\u001b[0;32m----> 2\u001b[0;31m \u001b[0mgetattr\u001b[0m\u001b[0;34m(\u001b[0m\u001b[0memployee1\u001b[0m\u001b[0;34m,\u001b[0m \u001b[0;34m'salary'\u001b[0m\u001b[0;34m)\u001b[0m\u001b[0;34m\u001b[0m\u001b[0;34m\u001b[0m\u001b[0m\n\u001b[0m",
            "\u001b[0;31mAttributeError\u001b[0m: 'Employee' object has no attribute 'salary'"
          ]
        }
      ]
    },
    {
      "cell_type": "code",
      "source": [
        "class Book:\n",
        "\n",
        "  def __init(self, title, quantity, author, price):\n",
        "    self.title = title\n",
        "    self.quantity = quantity\n",
        "    self.author = author\n",
        "    self.price = price\n",
        "\n",
        "  def set_discount(self, discount):\n",
        "    self.discount = discount\n",
        "\n",
        "  def get_price(self):\n",
        "    if self.dicount:\n",
        "        return self.price * (1 - self.discount)\n",
        "    return self.price\n",
        "\n",
        "  def __repr__(self):\n",
        "    return f\"Book: {self.title}, Quantity: {self.quantity}, Author: {self.author}, Price: {self.get_price}\"\n",
        "\n",
        "\n",
        "class Novel(Book):\n",
        "\n",
        "  def __init__(self, title, quantity, author, price, genre):\n",
        "     super().__init__(title, quantity, author, price)\n",
        "     self.genre = genre\n",
        "\n",
        "\n",
        "class Academic(Book):\n",
        "  def __init__(self, title, quantity, author, price, branch):\n",
        "    super().__init__(title, quantity, author, price)\n",
        "    self.branch = branch\n",
        "\n",
        "\n",
        "\n",
        "\n"
      ],
      "metadata": {
        "id": "1bWszt7p1l7u"
      },
      "execution_count": null,
      "outputs": []
    },
    {
      "cell_type": "code",
      "source": [
        "novel1 = Novel('2 states', 20,  'Matt W', 80, 'Fiction')\n",
        "novel1.set_discount(0.20)\n",
        "print(novel1)\n",
        "\n",
        "academic1 = Academic('Python Foundations', 12 , 'P.sauls', 'IT' , 'Tech')\n",
        "print(academic1)"
      ],
      "metadata": {
        "colab": {
          "base_uri": "https://localhost:8080/",
          "height": 326
        },
        "id": "E7qijeGwA5qk",
        "outputId": "98debde5-00a6-429b-83c0-4b840dd01b09"
      },
      "execution_count": null,
      "outputs": [
        {
          "output_type": "error",
          "ename": "TypeError",
          "evalue": "object.__init__() takes exactly one argument (the instance to initialize)",
          "traceback": [
            "\u001b[0;31m---------------------------------------------------------------------------\u001b[0m",
            "\u001b[0;31mTypeError\u001b[0m                                 Traceback (most recent call last)",
            "\u001b[0;32m<ipython-input-83-315222af9cb4>\u001b[0m in \u001b[0;36m<cell line: 0>\u001b[0;34m()\u001b[0m\n\u001b[0;32m----> 1\u001b[0;31m \u001b[0mnovel1\u001b[0m \u001b[0;34m=\u001b[0m \u001b[0mNovel\u001b[0m\u001b[0;34m(\u001b[0m\u001b[0;34m'2 states'\u001b[0m\u001b[0;34m,\u001b[0m \u001b[0;36m20\u001b[0m\u001b[0;34m,\u001b[0m  \u001b[0;34m'Matt W'\u001b[0m\u001b[0;34m,\u001b[0m \u001b[0;36m80\u001b[0m\u001b[0;34m,\u001b[0m \u001b[0;34m'Fiction'\u001b[0m\u001b[0;34m)\u001b[0m\u001b[0;34m\u001b[0m\u001b[0;34m\u001b[0m\u001b[0m\n\u001b[0m\u001b[1;32m      2\u001b[0m \u001b[0mnovel1\u001b[0m\u001b[0;34m.\u001b[0m\u001b[0mset_discount\u001b[0m\u001b[0;34m(\u001b[0m\u001b[0;36m0.20\u001b[0m\u001b[0;34m)\u001b[0m\u001b[0;34m\u001b[0m\u001b[0;34m\u001b[0m\u001b[0m\n\u001b[1;32m      3\u001b[0m \u001b[0mprint\u001b[0m\u001b[0;34m(\u001b[0m\u001b[0mnovel1\u001b[0m\u001b[0;34m)\u001b[0m\u001b[0;34m\u001b[0m\u001b[0;34m\u001b[0m\u001b[0m\n\u001b[1;32m      4\u001b[0m \u001b[0;34m\u001b[0m\u001b[0m\n\u001b[1;32m      5\u001b[0m \u001b[0macademic1\u001b[0m \u001b[0;34m=\u001b[0m \u001b[0mAcademic\u001b[0m\u001b[0;34m(\u001b[0m\u001b[0;34m'Python Foundations'\u001b[0m\u001b[0;34m,\u001b[0m \u001b[0;36m12\u001b[0m \u001b[0;34m,\u001b[0m \u001b[0;34m'P.sauls'\u001b[0m\u001b[0;34m,\u001b[0m \u001b[0;34m'IT'\u001b[0m \u001b[0;34m,\u001b[0m \u001b[0;34m'Tech'\u001b[0m\u001b[0;34m)\u001b[0m\u001b[0;34m\u001b[0m\u001b[0;34m\u001b[0m\u001b[0m\n",
            "\u001b[0;32m<ipython-input-78-16fbab23a6bf>\u001b[0m in \u001b[0;36m__init__\u001b[0;34m(self, title, quantity, author, price, genre)\u001b[0m\n\u001b[1;32m     22\u001b[0m \u001b[0;34m\u001b[0m\u001b[0m\n\u001b[1;32m     23\u001b[0m   \u001b[0;32mdef\u001b[0m \u001b[0m__init__\u001b[0m\u001b[0;34m(\u001b[0m\u001b[0mself\u001b[0m\u001b[0;34m,\u001b[0m \u001b[0mtitle\u001b[0m\u001b[0;34m,\u001b[0m \u001b[0mquantity\u001b[0m\u001b[0;34m,\u001b[0m \u001b[0mauthor\u001b[0m\u001b[0;34m,\u001b[0m \u001b[0mprice\u001b[0m\u001b[0;34m,\u001b[0m \u001b[0mgenre\u001b[0m\u001b[0;34m)\u001b[0m\u001b[0;34m:\u001b[0m\u001b[0;34m\u001b[0m\u001b[0;34m\u001b[0m\u001b[0m\n\u001b[0;32m---> 24\u001b[0;31m      \u001b[0msuper\u001b[0m\u001b[0;34m(\u001b[0m\u001b[0;34m)\u001b[0m\u001b[0;34m.\u001b[0m\u001b[0m__init__\u001b[0m\u001b[0;34m(\u001b[0m\u001b[0mtitle\u001b[0m\u001b[0;34m,\u001b[0m \u001b[0mquantity\u001b[0m\u001b[0;34m,\u001b[0m \u001b[0mauthor\u001b[0m\u001b[0;34m,\u001b[0m \u001b[0mprice\u001b[0m\u001b[0;34m)\u001b[0m\u001b[0;34m\u001b[0m\u001b[0;34m\u001b[0m\u001b[0m\n\u001b[0m\u001b[1;32m     25\u001b[0m      \u001b[0mself\u001b[0m\u001b[0;34m.\u001b[0m\u001b[0mgenre\u001b[0m \u001b[0;34m=\u001b[0m \u001b[0mgenre\u001b[0m\u001b[0;34m\u001b[0m\u001b[0;34m\u001b[0m\u001b[0m\n\u001b[1;32m     26\u001b[0m \u001b[0;34m\u001b[0m\u001b[0m\n",
            "\u001b[0;31mTypeError\u001b[0m: object.__init__() takes exactly one argument (the instance to initialize)"
          ]
        }
      ]
    },
    {
      "cell_type": "code",
      "source": [
        "class A:\n",
        "  def method_a(self):\n",
        "    print(\"Method A from class A\")\n",
        "\n",
        "class B:\n",
        "  def method_b(self):\n",
        "    print(\"Method B from class B\")\n",
        "\n",
        "class C(A, B):\n",
        "  def method_c(self):\n",
        "    print(\"Method C from class C\")\n",
        "\n",
        "obj = C()\n",
        "\n",
        "obj.method_a()\n",
        "\n",
        "obj.method_b()\n",
        "\n",
        "obj.method_c()\n"
      ],
      "metadata": {
        "colab": {
          "base_uri": "https://localhost:8080/"
        },
        "id": "0TEKnKzaCX2r",
        "outputId": "aa9c342d-71b2-4ef5-f56d-9fa230477acb"
      },
      "execution_count": null,
      "outputs": [
        {
          "output_type": "stream",
          "name": "stdout",
          "text": [
            "Method A from class A\n",
            "Method B from class B\n",
            "Method C from class C\n"
          ]
        }
      ]
    },
    {
      "cell_type": "code",
      "source": [
        "class MyClass:\n",
        "  def __init__(self):\n",
        "    self.public_attribute = 42\n",
        "\n",
        "  def public_method(self):\n",
        "    return \"This is a public method\"\n",
        "\n",
        "obj = MyClass()\n",
        "\n",
        "print(obj.public_attribute)\n",
        "print(obj.public_method())"
      ],
      "metadata": {
        "colab": {
          "base_uri": "https://localhost:8080/"
        },
        "id": "qWPVhQ-VFZVA",
        "outputId": "6833c631-2584-4bf0-f6d3-23a7b2b07841"
      },
      "execution_count": null,
      "outputs": [
        {
          "output_type": "stream",
          "name": "stdout",
          "text": [
            "42\n",
            "This is a public method\n"
          ]
        }
      ]
    },
    {
      "cell_type": "code",
      "source": [
        "class MyClass:\n",
        "  def __init__(self):\n",
        "    self._protected_attribute = 42\n",
        "\n",
        "  def _protected_method(self):\n",
        "    return \"This is protected method\"\n",
        "\n",
        "obj = MyClass()\n",
        "\n",
        "print(obj._protected_attribute)\n",
        "print(obj._protected_method())"
      ],
      "metadata": {
        "colab": {
          "base_uri": "https://localhost:8080/"
        },
        "id": "YqXSvXcXFtjT",
        "outputId": "993fa498-344c-41e5-dcd4-38cf66f75967"
      },
      "execution_count": null,
      "outputs": [
        {
          "output_type": "stream",
          "name": "stdout",
          "text": [
            "42\n",
            "This is protected method\n"
          ]
        }
      ]
    },
    {
      "cell_type": "code",
      "source": [
        "class MyClass:\n",
        "  def __init__(self):\n",
        "    self.__private_attribute = 42\n",
        "\n",
        "  def __private_method(self):\n",
        "    return \"Thisis private method\"\n",
        "\n",
        "\n",
        "obj = MyClass()\n",
        "\n",
        "print(obj.__private_attribute)\n",
        "print(obj.__private_method())"
      ],
      "metadata": {
        "colab": {
          "base_uri": "https://localhost:8080/",
          "height": 190
        },
        "id": "5rokLT7EGQw6",
        "outputId": "cda9ada8-a698-4487-fb51-0193b7c887d8"
      },
      "execution_count": null,
      "outputs": [
        {
          "output_type": "error",
          "ename": "AttributeError",
          "evalue": "'MyClass' object has no attribute '__private_attribute'",
          "traceback": [
            "\u001b[0;31m---------------------------------------------------------------------------\u001b[0m",
            "\u001b[0;31mAttributeError\u001b[0m                            Traceback (most recent call last)",
            "\u001b[0;32m<ipython-input-97-03b4b57d369b>\u001b[0m in \u001b[0;36m<cell line: 0>\u001b[0;34m()\u001b[0m\n\u001b[1;32m      9\u001b[0m \u001b[0mobj\u001b[0m \u001b[0;34m=\u001b[0m \u001b[0mMyClass\u001b[0m\u001b[0;34m(\u001b[0m\u001b[0;34m)\u001b[0m\u001b[0;34m\u001b[0m\u001b[0;34m\u001b[0m\u001b[0m\n\u001b[1;32m     10\u001b[0m \u001b[0;34m\u001b[0m\u001b[0m\n\u001b[0;32m---> 11\u001b[0;31m \u001b[0mprint\u001b[0m\u001b[0;34m(\u001b[0m\u001b[0mobj\u001b[0m\u001b[0;34m.\u001b[0m\u001b[0m__private_attribute\u001b[0m\u001b[0;34m)\u001b[0m\u001b[0;34m\u001b[0m\u001b[0;34m\u001b[0m\u001b[0m\n\u001b[0m\u001b[1;32m     12\u001b[0m \u001b[0mprint\u001b[0m\u001b[0;34m(\u001b[0m\u001b[0mobj\u001b[0m\u001b[0;34m.\u001b[0m\u001b[0m__private_method\u001b[0m\u001b[0;34m(\u001b[0m\u001b[0;34m)\u001b[0m\u001b[0;34m)\u001b[0m\u001b[0;34m\u001b[0m\u001b[0;34m\u001b[0m\u001b[0m\n",
            "\u001b[0;31mAttributeError\u001b[0m: 'MyClass' object has no attribute '__private_attribute'"
          ]
        }
      ]
    },
    {
      "cell_type": "code",
      "source": [
        "class Person:\n",
        "\n",
        "  def __init__(self, name ,age):\n",
        "    self.name =name\n",
        "    self.__age = age\n",
        "\n",
        "  def get_age(self):\n",
        "    if(self.__age < 0):\n",
        "      print(\"This is not a valid age\")\n",
        "      return -1\n",
        "    return self.__age\n",
        "\n",
        "  def set_age(self, x):\n",
        "    if x < 0:\n",
        "      self.__age = 0\n",
        "    self.__age = x\n"
      ],
      "metadata": {
        "id": "79TYEJrwG1ya"
      },
      "execution_count": null,
      "outputs": []
    },
    {
      "cell_type": "code",
      "source": [
        "p1 = Person(\"Matt\", 20)\n",
        "\n",
        "print(p1.get_age())"
      ],
      "metadata": {
        "colab": {
          "base_uri": "https://localhost:8080/"
        },
        "id": "tSY1VqmnI8h-",
        "outputId": "fff10bd1-f1fb-4e59-f580-36c14842e491"
      },
      "execution_count": null,
      "outputs": [
        {
          "output_type": "stream",
          "name": "stdout",
          "text": [
            "20\n"
          ]
        }
      ]
    },
    {
      "cell_type": "code",
      "source": [
        "p1.set_age(21)\n",
        "print(p1.get_age())"
      ],
      "metadata": {
        "colab": {
          "base_uri": "https://localhost:8080/"
        },
        "id": "Nr5ks7zzKnyh",
        "outputId": "759ef79b-84de-416f-8dd7-c3404cced1b2"
      },
      "execution_count": null,
      "outputs": [
        {
          "output_type": "stream",
          "name": "stdout",
          "text": [
            "21\n"
          ]
        }
      ]
    },
    {
      "cell_type": "code",
      "source": [
        "p1.set_age(-1)\n",
        "print(p1.get_age())"
      ],
      "metadata": {
        "colab": {
          "base_uri": "https://localhost:8080/"
        },
        "id": "V7yOVQZ9KtyA",
        "outputId": "0ef7c4d4-bc9b-49e6-8a7c-557dbb8c698c"
      },
      "execution_count": null,
      "outputs": [
        {
          "output_type": "stream",
          "name": "stdout",
          "text": [
            "This is not a valid age\n",
            "-1\n"
          ]
        }
      ]
    },
    {
      "cell_type": "code",
      "source": [
        "class Shape:\n",
        "  def area(self):\n",
        "    pass\n",
        "\n",
        "class Circle(Shape):\n",
        "  def __init__(self, radius):\n",
        "    self.radius = radius\n",
        "\n",
        "  def area(self):\n",
        "     return 3.14159 * self.radius **2\n",
        "\n",
        "class Rectangle(Shape):\n",
        "  def __init__(self, width, height):\n",
        "    self.width = width\n",
        "    self.height = height\n",
        "\n",
        "\n",
        "  def area(self):\n",
        "     return self.width * self.height\n",
        "\n",
        "\n",
        "def calculate_area(shape):\n",
        "  return (shape.area())\n",
        "\n"
      ],
      "metadata": {
        "id": "GF3XDXFTKyxY"
      },
      "execution_count": null,
      "outputs": []
    },
    {
      "cell_type": "code",
      "source": [
        "my_circle = Circle(5)\n",
        "my_rectangle = Rectangle(4, 6)\n",
        "\n",
        "print(f\"Circle Area : {calculate_area(my_circle)}\")\n",
        "print(f\"Rectangle Area : {calculate_area(my_rectangle)}\")"
      ],
      "metadata": {
        "colab": {
          "base_uri": "https://localhost:8080/"
        },
        "id": "xSQf6agYLjTO",
        "outputId": "dbc597ba-5ee8-458c-ad97-7a4dc9edbf05"
      },
      "execution_count": null,
      "outputs": [
        {
          "output_type": "stream",
          "name": "stdout",
          "text": [
            "Circle Area : 78.53975\n",
            "Rectangle Area : 24\n"
          ]
        }
      ]
    },
    {
      "cell_type": "code",
      "source": [
        "class MyHashMap:\n",
        "\n",
        "  def __init__(self):\n",
        "    self.my_list = []\n",
        "\n",
        "  def put(self, key:int, value:int) -> None:\n",
        "    for pair in self.my_list:\n",
        "       if key == pair[0]:\n",
        "          pair[1] = value\n",
        "          return\n",
        "    pair = [key, value]\n",
        "    self.my_list.append(pair)\n",
        "\n",
        "\n",
        "  def get(self, key:int) -> int:\n",
        "    for pair in self.my_list:\n",
        "      if key == pair[0]:\n",
        "        return pair[1]\n",
        "\n",
        "    return -1\n",
        "\n",
        "  def remove(self, key:int) -> None:\n",
        "    for pair in self.my_list:\n",
        "      if key == pair[0]:\n",
        "          self.my_list.remove(pair)\n",
        "          return"
      ],
      "metadata": {
        "id": "Ut4f0hy5L-pI"
      },
      "execution_count": null,
      "outputs": []
    },
    {
      "cell_type": "code",
      "source": [
        "myHashMap = MyHashMap()\n",
        "print(myHashMap.my_list)"
      ],
      "metadata": {
        "colab": {
          "base_uri": "https://localhost:8080/"
        },
        "id": "8eIGUuK2MhCn",
        "outputId": "1e1a03a5-a98c-4f15-be24-8f08b108295f"
      },
      "execution_count": null,
      "outputs": [
        {
          "output_type": "stream",
          "name": "stdout",
          "text": [
            "[]\n"
          ]
        }
      ]
    },
    {
      "cell_type": "code",
      "source": [
        "myHashMap.put(1,1)\n",
        "print(myHashMap.my_list)"
      ],
      "metadata": {
        "colab": {
          "base_uri": "https://localhost:8080/"
        },
        "id": "5QPY13-hOue1",
        "outputId": "e79f5d46-267d-4288-fc18-b7854b175045"
      },
      "execution_count": null,
      "outputs": [
        {
          "output_type": "stream",
          "name": "stdout",
          "text": [
            "[[1, 1], [2, 2]]\n"
          ]
        }
      ]
    },
    {
      "cell_type": "code",
      "source": [
        "myHashMap.put(2,2)\n",
        "print(myHashMap.my_list)\n"
      ],
      "metadata": {
        "colab": {
          "base_uri": "https://localhost:8080/"
        },
        "id": "VjWh9LbxO1jg",
        "outputId": "b9547a90-0dd0-43fb-f169-df745ce8be39"
      },
      "execution_count": null,
      "outputs": [
        {
          "output_type": "stream",
          "name": "stdout",
          "text": [
            "[[1, 1], [2, 2]]\n"
          ]
        }
      ]
    },
    {
      "cell_type": "code",
      "source": [
        "print(myHashMap.get(1))\n",
        "print(myHashMap.get(2))\n",
        "print(myHashMap.get(3))\n"
      ],
      "metadata": {
        "colab": {
          "base_uri": "https://localhost:8080/"
        },
        "id": "ZG1eazTaO4SQ",
        "outputId": "33693cc9-8f8a-46b1-93bd-2e538f917795"
      },
      "execution_count": null,
      "outputs": [
        {
          "output_type": "stream",
          "name": "stdout",
          "text": [
            "1\n",
            "2\n",
            "-1\n"
          ]
        }
      ]
    },
    {
      "cell_type": "code",
      "source": [
        "myHashMap.put(2,1)\n",
        "print(myHashMap.my_list)"
      ],
      "metadata": {
        "colab": {
          "base_uri": "https://localhost:8080/"
        },
        "id": "ieZcpRC9PAye",
        "outputId": "869e7558-8309-4471-e7b7-1b0d55c2d68f"
      },
      "execution_count": null,
      "outputs": [
        {
          "output_type": "stream",
          "name": "stdout",
          "text": [
            "[[1, 1], [2, 1]]\n"
          ]
        }
      ]
    },
    {
      "cell_type": "code",
      "source": [
        "numbers = [ 1, 33, 2, 44, 53,  5, 22 ]\n",
        "sorted(numbers)\n",
        "print(numbers)"
      ],
      "metadata": {
        "colab": {
          "base_uri": "https://localhost:8080/"
        },
        "id": "iwC0m3LpAC3R",
        "outputId": "3826df1a-60c2-4311-bf5c-6c481221c894"
      },
      "execution_count": null,
      "outputs": [
        {
          "output_type": "stream",
          "name": "stdout",
          "text": [
            "[1, 33, 2, 44, 53, 5, 22]\n"
          ]
        }
      ]
    },
    {
      "cell_type": "code",
      "source": [
        "numbers2 = sorted(numbers)\n",
        "print(numbers2)"
      ],
      "metadata": {
        "colab": {
          "base_uri": "https://localhost:8080/"
        },
        "id": "Dx_nqvJjAats",
        "outputId": "dbddf295-f069-4b8b-b136-d7b33ca09f2b"
      },
      "execution_count": null,
      "outputs": [
        {
          "output_type": "stream",
          "name": "stdout",
          "text": [
            "[1, 2, 5, 22, 33, 44, 53]\n"
          ]
        }
      ]
    },
    {
      "cell_type": "code",
      "source": [
        "print(numbers)\n",
        "numbers.sort()\n",
        "print(numbers)"
      ],
      "metadata": {
        "colab": {
          "base_uri": "https://localhost:8080/"
        },
        "id": "OQR18h07Al9Z",
        "outputId": "9eb3f57f-3997-45e5-fffa-df8659a0da25"
      },
      "execution_count": null,
      "outputs": [
        {
          "output_type": "stream",
          "name": "stdout",
          "text": [
            "[1, 33, 2, 44, 53, 5, 22]\n",
            "[1, 2, 5, 22, 33, 44, 53]\n"
          ]
        }
      ]
    },
    {
      "cell_type": "code",
      "source": [
        "words = [ \"apple\", \"banana\" , \"trees\", \"pineapple\", \"cranberry\"]\n",
        "sorted_words = sorted(words, key = len)\n",
        "print(sorted_words)\n",
        "#sort based on length"
      ],
      "metadata": {
        "colab": {
          "base_uri": "https://localhost:8080/"
        },
        "id": "RCckPxEuAuWe",
        "outputId": "045533fc-5f00-46d7-fc2c-9c4a83cc8ae5"
      },
      "execution_count": null,
      "outputs": [
        {
          "output_type": "stream",
          "name": "stdout",
          "text": [
            "['apple', 'trees', 'banana', 'pineapple', 'cranberry']\n"
          ]
        }
      ]
    },
    {
      "cell_type": "code",
      "source": [
        "sorted_words = sorted(words, key=len, reverse= True)\n",
        "print(sorted_words)\n"
      ],
      "metadata": {
        "colab": {
          "base_uri": "https://localhost:8080/"
        },
        "id": "-tXdNZ2kA-Z4",
        "outputId": "b8aaef48-b783-4d0d-909e-28c32d20c783"
      },
      "execution_count": null,
      "outputs": [
        {
          "output_type": "stream",
          "name": "stdout",
          "text": [
            "['pineapple', 'cranberry', 'banana', 'apple', 'trees']\n"
          ]
        }
      ]
    },
    {
      "cell_type": "code",
      "source": [
        "sorted_words = sorted(words, key=lambda x: (x[1],x[0]))\n",
        "print(sorted_words)\n",
        "\n"
      ],
      "metadata": {
        "colab": {
          "base_uri": "https://localhost:8080/"
        },
        "id": "2wr1t-5eBON3",
        "outputId": "4807f97b-20c9-41ea-903b-25c562e43de8"
      },
      "execution_count": null,
      "outputs": [
        {
          "output_type": "stream",
          "name": "stdout",
          "text": [
            "['banana', 'pineapple', 'apple', 'cranberry', 'trees']\n"
          ]
        }
      ]
    },
    {
      "cell_type": "code",
      "source": [
        "points = [[1,2],[0,4],[6,3,2],[1,3,1]]\n",
        "sorted_points1 = sorted(points)\n",
        "print(sorted_points1)\n",
        "\n",
        "sorted_points2 = sorted(points, key=lambda x:(x[1]))\n",
        "print(sorted_points2)\n",
        "\n",
        "\n",
        "sorted_points3 = sorted(points, key=lambda x:(x[1],x[0]))\n",
        "print(sorted_points3)\n"
      ],
      "metadata": {
        "colab": {
          "base_uri": "https://localhost:8080/"
        },
        "id": "aNbvQOZECuB1",
        "outputId": "82e79632-fac3-4dc8-c4f7-e2ddd0ced9b3"
      },
      "execution_count": null,
      "outputs": [
        {
          "output_type": "stream",
          "name": "stdout",
          "text": [
            "[[0, 4], [1, 2], [1, 3, 1], [6, 3, 2]]\n",
            "[[1, 2], [6, 3, 2], [1, 3, 1], [0, 4]]\n",
            "[[1, 2], [1, 3, 1], [6, 3, 2], [0, 4]]\n"
          ]
        }
      ]
    },
    {
      "cell_type": "code",
      "source": [
        "class Employee:\n",
        "  def __init__(self, name, dept, age):\n",
        "    self.name = name\n",
        "    self.age = age\n",
        "    self.dept = dept\n",
        "\n",
        "  def __repr__(self):\n",
        "    return '{' + self.name + ',' + self.dept + ',' + str(self.age)+'}'\n",
        "\n",
        "\n",
        "employees = [ Employee ('John', 'IT', 28),\n",
        "             Employee('Sam', 'Banking', 20),\n",
        "              Employee('Joe', 'Finance', 25)]"
      ],
      "metadata": {
        "id": "XGiOQDAbDZ3v"
      },
      "execution_count": null,
      "outputs": []
    },
    {
      "cell_type": "code",
      "source": [
        "employees"
      ],
      "metadata": {
        "colab": {
          "base_uri": "https://localhost:8080/"
        },
        "id": "SuB786OXEiDS",
        "outputId": "92b595bc-828b-4c71-99f3-6eacf6e96152"
      },
      "execution_count": null,
      "outputs": [
        {
          "output_type": "execute_result",
          "data": {
            "text/plain": [
              "[{John,IT,28}, {Sam,Banking,20}, {Joe,Finance,25}]"
            ]
          },
          "metadata": {},
          "execution_count": 51
        }
      ]
    },
    {
      "cell_type": "code",
      "source": [
        "employees.sort(key=lambda x: x.name)\n",
        "print(employees)\n"
      ],
      "metadata": {
        "colab": {
          "base_uri": "https://localhost:8080/"
        },
        "id": "yY2fF1uBE2ak",
        "outputId": "a55d94f9-5530-491d-f0c0-b2e154eaff95"
      },
      "execution_count": null,
      "outputs": [
        {
          "output_type": "stream",
          "name": "stdout",
          "text": [
            "[{Joe,Finance,25}, {John,IT,28}, {Sam,Banking,20}]\n"
          ]
        }
      ]
    },
    {
      "cell_type": "code",
      "source": [
        "employees.sort(key=lambda x: x.age)\n",
        "print(employees)"
      ],
      "metadata": {
        "id": "dvedJlSoFDvL",
        "outputId": "48066293-a086-43e3-dc1e-6196bb93e33d",
        "colab": {
          "base_uri": "https://localhost:8080/"
        }
      },
      "execution_count": null,
      "outputs": [
        {
          "output_type": "stream",
          "name": "stdout",
          "text": [
            "[{Sam,Banking,20}, {Joe,Finance,25}, {John,IT,28}]\n"
          ]
        }
      ]
    },
    {
      "cell_type": "code",
      "source": [
        "employees.sort(key=lambda x: x.age, reverse=True)\n",
        "print(employees)"
      ],
      "metadata": {
        "id": "qVixqlWSFI6E",
        "outputId": "ec7a481b-2e31-43d1-b0cf-f6ab9dc66e23",
        "colab": {
          "base_uri": "https://localhost:8080/"
        }
      },
      "execution_count": null,
      "outputs": [
        {
          "output_type": "stream",
          "name": "stdout",
          "text": [
            "[{John,IT,28}, {Joe,Finance,25}, {Sam,Banking,20}]\n"
          ]
        }
      ]
    },
    {
      "cell_type": "code",
      "source": [
        "print(\"Hello World\")"
      ],
      "metadata": {
        "colab": {
          "base_uri": "https://localhost:8080/"
        },
        "id": "pIQ5GqkVlPyy",
        "outputId": "0fc3b95c-1a99-4ac6-ca19-325c763947bf"
      },
      "execution_count": 3,
      "outputs": [
        {
          "output_type": "stream",
          "name": "stdout",
          "text": [
            "Hello World\n"
          ]
        }
      ]
    },
    {
      "cell_type": "code",
      "source": [
        "employees.sort(key=lambda x: x.dept)\n",
        "print(employees)"
      ],
      "metadata": {
        "id": "aqaTBJKFFFCP",
        "outputId": "c38759e3-e9d9-4613-c345-8ee3e601b583",
        "colab": {
          "base_uri": "https://localhost:8080/"
        }
      },
      "execution_count": null,
      "outputs": [
        {
          "output_type": "stream",
          "name": "stdout",
          "text": [
            "[{Sam,Banking,20}, {Joe,Finance,25}, {John,IT,28}]\n"
          ]
        }
      ]
    },
    {
      "cell_type": "code",
      "source": [
        "result = \"5\" * 3"
      ],
      "metadata": {
        "id": "oLdW79f6lQ02"
      },
      "execution_count": 2,
      "outputs": []
    },
    {
      "cell_type": "code",
      "source": [
        "#converting a non numeric string to an integer\n",
        "number_str = \"abc\"\n",
        "result = int(number_str)"
      ],
      "metadata": {
        "colab": {
          "base_uri": "https://localhost:8080/",
          "height": 173
        },
        "id": "t0CzQrEAliYJ",
        "outputId": "4b05b40a-2ea3-4552-f8ef-d5116cffdaf1"
      },
      "execution_count": 9,
      "outputs": [
        {
          "output_type": "error",
          "ename": "ValueError",
          "evalue": "invalid literal for int() with base 10: 'abc'",
          "traceback": [
            "\u001b[0;31m---------------------------------------------------------------------------\u001b[0m",
            "\u001b[0;31mValueError\u001b[0m                                Traceback (most recent call last)",
            "\u001b[0;32m<ipython-input-9-487afdb52c4f>\u001b[0m in \u001b[0;36m<cell line: 0>\u001b[0;34m()\u001b[0m\n\u001b[1;32m      1\u001b[0m \u001b[0;31m#converting a non numeric string to an integer\u001b[0m\u001b[0;34m\u001b[0m\u001b[0;34m\u001b[0m\u001b[0m\n\u001b[1;32m      2\u001b[0m \u001b[0mnumber_str\u001b[0m \u001b[0;34m=\u001b[0m \u001b[0;34m\"abc\"\u001b[0m\u001b[0;34m\u001b[0m\u001b[0;34m\u001b[0m\u001b[0m\n\u001b[0;32m----> 3\u001b[0;31m \u001b[0mresult\u001b[0m \u001b[0;34m=\u001b[0m \u001b[0mint\u001b[0m\u001b[0;34m(\u001b[0m\u001b[0mnumber_str\u001b[0m\u001b[0;34m)\u001b[0m\u001b[0;34m\u001b[0m\u001b[0;34m\u001b[0m\u001b[0m\n\u001b[0m",
            "\u001b[0;31mValueError\u001b[0m: invalid literal for int() with base 10: 'abc'"
          ]
        }
      ]
    },
    {
      "cell_type": "code",
      "source": [
        "#trying to open a non existent file\n",
        "file_path = \"non.existentfile.txt\"\n",
        "with open(file_path, \"r\") as file:\n",
        "  content = file.read()"
      ],
      "metadata": {
        "colab": {
          "base_uri": "https://localhost:8080/",
          "height": 190
        },
        "id": "NM_83zHJmL-M",
        "outputId": "d08c8e78-b93a-4335-ea53-7399d75b3bc3"
      },
      "execution_count": 10,
      "outputs": [
        {
          "output_type": "error",
          "ename": "FileNotFoundError",
          "evalue": "[Errno 2] No such file or directory: 'non.existentfile.txt'",
          "traceback": [
            "\u001b[0;31m---------------------------------------------------------------------------\u001b[0m",
            "\u001b[0;31mFileNotFoundError\u001b[0m                         Traceback (most recent call last)",
            "\u001b[0;32m<ipython-input-10-65fb84afce4f>\u001b[0m in \u001b[0;36m<cell line: 0>\u001b[0;34m()\u001b[0m\n\u001b[1;32m      1\u001b[0m \u001b[0;31m#trying to open a non existent file\u001b[0m\u001b[0;34m\u001b[0m\u001b[0;34m\u001b[0m\u001b[0m\n\u001b[1;32m      2\u001b[0m \u001b[0mfile_path\u001b[0m \u001b[0;34m=\u001b[0m \u001b[0;34m\"non.existentfile.txt\"\u001b[0m\u001b[0;34m\u001b[0m\u001b[0;34m\u001b[0m\u001b[0m\n\u001b[0;32m----> 3\u001b[0;31m \u001b[0;32mwith\u001b[0m \u001b[0mopen\u001b[0m\u001b[0;34m(\u001b[0m\u001b[0mfile_path\u001b[0m\u001b[0;34m,\u001b[0m \u001b[0;34m\"r\"\u001b[0m\u001b[0;34m)\u001b[0m \u001b[0;32mas\u001b[0m \u001b[0mfile\u001b[0m\u001b[0;34m:\u001b[0m\u001b[0;34m\u001b[0m\u001b[0;34m\u001b[0m\u001b[0m\n\u001b[0m\u001b[1;32m      4\u001b[0m   \u001b[0mcontent\u001b[0m \u001b[0;34m=\u001b[0m \u001b[0mfile\u001b[0m\u001b[0;34m.\u001b[0m\u001b[0mread\u001b[0m\u001b[0;34m(\u001b[0m\u001b[0;34m)\u001b[0m\u001b[0;34m\u001b[0m\u001b[0;34m\u001b[0m\u001b[0m\n",
            "\u001b[0;31mFileNotFoundError\u001b[0m: [Errno 2] No such file or directory: 'non.existentfile.txt'"
          ]
        }
      ]
    },
    {
      "cell_type": "code",
      "source": [
        "a = 5\n",
        "b = 0\n",
        "try:\n",
        "  print(a/b)\n",
        "except:\n",
        "  print(\"Cannot divide by zero\")\n",
        "\n",
        "print(\"Completed\")"
      ],
      "metadata": {
        "colab": {
          "base_uri": "https://localhost:8080/"
        },
        "id": "fYaPZX_1mbvI",
        "outputId": "6da76dfa-538f-4d6c-d335-1e356330837d"
      },
      "execution_count": 13,
      "outputs": [
        {
          "output_type": "stream",
          "name": "stdout",
          "text": [
            "Cannot divide by zero\n",
            "Completed\n"
          ]
        }
      ]
    },
    {
      "cell_type": "code",
      "source": [
        "x = 2\n",
        "try:\n",
        "  x += \"abc\"\n",
        "except Exception as e:\n",
        "  print(\"Oops something went wrong\")\n",
        "  print(type(e))\n",
        "  print(e)\n"
      ],
      "metadata": {
        "colab": {
          "base_uri": "https://localhost:8080/"
        },
        "id": "BD0hWg2QmpcP",
        "outputId": "28f5997d-a3f0-4333-b335-665f831d8a93"
      },
      "execution_count": 16,
      "outputs": [
        {
          "output_type": "stream",
          "name": "stdout",
          "text": [
            "Oops something went wrong\n",
            "<class 'TypeError'>\n",
            "unsupported operand type(s) for +=: 'int' and 'str'\n"
          ]
        }
      ]
    },
    {
      "cell_type": "code",
      "source": [
        "file = open(\"test1.txt\", \"r\")\n"
      ],
      "metadata": {
        "colab": {
          "base_uri": "https://localhost:8080/",
          "height": 139
        },
        "id": "ujj6RQOgmxSf",
        "outputId": "ea5db077-6d4c-4e26-f628-dab7c6247a4b"
      },
      "execution_count": 17,
      "outputs": [
        {
          "output_type": "error",
          "ename": "FileNotFoundError",
          "evalue": "[Errno 2] No such file or directory: 'test1.txt'",
          "traceback": [
            "\u001b[0;31m---------------------------------------------------------------------------\u001b[0m",
            "\u001b[0;31mFileNotFoundError\u001b[0m                         Traceback (most recent call last)",
            "\u001b[0;32m<ipython-input-17-bad955f3b0a9>\u001b[0m in \u001b[0;36m<cell line: 0>\u001b[0;34m()\u001b[0m\n\u001b[0;32m----> 1\u001b[0;31m \u001b[0mfile\u001b[0m \u001b[0;34m=\u001b[0m \u001b[0mopen\u001b[0m\u001b[0;34m(\u001b[0m\u001b[0;34m\"test1.txt\"\u001b[0m\u001b[0;34m,\u001b[0m \u001b[0;34m\"r\"\u001b[0m\u001b[0;34m)\u001b[0m\u001b[0;34m\u001b[0m\u001b[0;34m\u001b[0m\u001b[0m\n\u001b[0m",
            "\u001b[0;31mFileNotFoundError\u001b[0m: [Errno 2] No such file or directory: 'test1.txt'"
          ]
        }
      ]
    },
    {
      "cell_type": "code",
      "source": [
        "content = file.read()"
      ],
      "metadata": {
        "colab": {
          "base_uri": "https://localhost:8080/",
          "height": 139
        },
        "id": "IgUrGdKost_k",
        "outputId": "f5e223a0-5db3-4557-efbe-a140e16a9e1f"
      },
      "execution_count": 18,
      "outputs": [
        {
          "output_type": "error",
          "ename": "NameError",
          "evalue": "name 'file' is not defined",
          "traceback": [
            "\u001b[0;31m---------------------------------------------------------------------------\u001b[0m",
            "\u001b[0;31mNameError\u001b[0m                                 Traceback (most recent call last)",
            "\u001b[0;32m<ipython-input-18-94a652c86bec>\u001b[0m in \u001b[0;36m<cell line: 0>\u001b[0;34m()\u001b[0m\n\u001b[0;32m----> 1\u001b[0;31m \u001b[0mcontent\u001b[0m \u001b[0;34m=\u001b[0m \u001b[0mfile\u001b[0m\u001b[0;34m.\u001b[0m\u001b[0mread\u001b[0m\u001b[0;34m(\u001b[0m\u001b[0;34m)\u001b[0m\u001b[0;34m\u001b[0m\u001b[0;34m\u001b[0m\u001b[0m\n\u001b[0m",
            "\u001b[0;31mNameError\u001b[0m: name 'file' is not defined"
          ]
        }
      ]
    },
    {
      "cell_type": "code",
      "source": [
        "print(type(content))\n",
        "print()\n",
        "print(content)"
      ],
      "metadata": {
        "colab": {
          "base_uri": "https://localhost:8080/",
          "height": 173
        },
        "id": "SBQTiqKUsxwg",
        "outputId": "2fa35e4c-8a4d-4761-a013-27bd932841ca"
      },
      "execution_count": 19,
      "outputs": [
        {
          "output_type": "error",
          "ename": "NameError",
          "evalue": "name 'content' is not defined",
          "traceback": [
            "\u001b[0;31m---------------------------------------------------------------------------\u001b[0m",
            "\u001b[0;31mNameError\u001b[0m                                 Traceback (most recent call last)",
            "\u001b[0;32m<ipython-input-19-976770f206c9>\u001b[0m in \u001b[0;36m<cell line: 0>\u001b[0;34m()\u001b[0m\n\u001b[0;32m----> 1\u001b[0;31m \u001b[0mprint\u001b[0m\u001b[0;34m(\u001b[0m\u001b[0mtype\u001b[0m\u001b[0;34m(\u001b[0m\u001b[0mcontent\u001b[0m\u001b[0;34m)\u001b[0m\u001b[0;34m)\u001b[0m\u001b[0;34m\u001b[0m\u001b[0;34m\u001b[0m\u001b[0m\n\u001b[0m\u001b[1;32m      2\u001b[0m \u001b[0mprint\u001b[0m\u001b[0;34m(\u001b[0m\u001b[0;34m)\u001b[0m\u001b[0;34m\u001b[0m\u001b[0;34m\u001b[0m\u001b[0m\n\u001b[1;32m      3\u001b[0m \u001b[0mprint\u001b[0m\u001b[0;34m(\u001b[0m\u001b[0mcontent\u001b[0m\u001b[0;34m)\u001b[0m\u001b[0;34m\u001b[0m\u001b[0;34m\u001b[0m\u001b[0m\n",
            "\u001b[0;31mNameError\u001b[0m: name 'content' is not defined"
          ]
        }
      ]
    },
    {
      "cell_type": "code",
      "source": [
        "with open(\"test1.txt\", \"r\") as file:\n",
        "  while True:\n",
        "    cur_line = file.readline()\n",
        "    if cur_line:\n",
        "        print(cur_line)\n",
        "    else:\n",
        "      break\n",
        "\n",
        ""
      ],
      "metadata": {
        "id": "Zt4P5XiFs32u"
      },
      "execution_count": null,
      "outputs": []
    },
    {
      "cell_type": "code",
      "source": [
        "with(\"open1.txt\", \"r\") as file:\n",
        "  lines =file.readlines()\n",
        "  print(lines)"
      ],
      "metadata": {
        "colab": {
          "base_uri": "https://localhost:8080/",
          "height": 173
        },
        "id": "BpOZ5REjtgQQ",
        "outputId": "e71f8d12-b4ea-4f1b-a2f0-2ee368dc3fa4"
      },
      "execution_count": 119,
      "outputs": [
        {
          "output_type": "error",
          "ename": "TypeError",
          "evalue": "'tuple' object does not support the context manager protocol",
          "traceback": [
            "\u001b[0;31m---------------------------------------------------------------------------\u001b[0m",
            "\u001b[0;31mTypeError\u001b[0m                                 Traceback (most recent call last)",
            "\u001b[0;32m<ipython-input-119-c3587a59b639>\u001b[0m in \u001b[0;36m<cell line: 0>\u001b[0;34m()\u001b[0m\n\u001b[0;32m----> 1\u001b[0;31m \u001b[0;32mwith\u001b[0m\u001b[0;34m(\u001b[0m\u001b[0;34m\"open1.txt\"\u001b[0m\u001b[0;34m,\u001b[0m \u001b[0;34m\"r\"\u001b[0m\u001b[0;34m)\u001b[0m \u001b[0;32mas\u001b[0m \u001b[0mfile\u001b[0m\u001b[0;34m:\u001b[0m\u001b[0;34m\u001b[0m\u001b[0;34m\u001b[0m\u001b[0m\n\u001b[0m\u001b[1;32m      2\u001b[0m   \u001b[0mlines\u001b[0m \u001b[0;34m=\u001b[0m\u001b[0mfile\u001b[0m\u001b[0;34m.\u001b[0m\u001b[0mreadlines\u001b[0m\u001b[0;34m(\u001b[0m\u001b[0;34m)\u001b[0m\u001b[0;34m\u001b[0m\u001b[0;34m\u001b[0m\u001b[0m\n\u001b[1;32m      3\u001b[0m   \u001b[0mprint\u001b[0m\u001b[0;34m(\u001b[0m\u001b[0mlines\u001b[0m\u001b[0;34m)\u001b[0m\u001b[0;34m\u001b[0m\u001b[0;34m\u001b[0m\u001b[0m\n",
            "\u001b[0;31mTypeError\u001b[0m: 'tuple' object does not support the context manager protocol"
          ]
        }
      ]
    },
    {
      "cell_type": "code",
      "source": [
        "for line in lines:\n",
        "  print(line)\n"
      ],
      "metadata": {
        "colab": {
          "base_uri": "https://localhost:8080/"
        },
        "id": "fXgPAC-ztnlE",
        "outputId": "13e68ba9-931b-4184-c751-313400926117"
      },
      "execution_count": 118,
      "outputs": [
        {
          "output_type": "stream",
          "name": "stdout",
          "text": [
            "I Love python. Python is my favouriteI Love python. Python is my favourite\n",
            "\n",
            "I Love python. Python is my favourite\n",
            "\n",
            "I Love python. Python is my favourite\n"
          ]
        }
      ]
    },
    {
      "cell_type": "code",
      "source": [
        "with open(\"test1.txt\", \"r\") as file:\n",
        "  file.seek(5)\n",
        "  print(file.read())\n",
        "\n",
        "  print()\n",
        "\n",
        "  position = file.tell()\n",
        "  print(position)"
      ],
      "metadata": {
        "id": "O3hXXSpmtr3X"
      },
      "execution_count": null,
      "outputs": []
    },
    {
      "cell_type": "code",
      "source": [
        "file = open(\"test2.txt\", \"w\")\n",
        "file.write(\"Hello John\")\n",
        "file.close()"
      ],
      "metadata": {
        "id": "rruZcA99tOkY"
      },
      "execution_count": 29,
      "outputs": []
    },
    {
      "cell_type": "code",
      "source": [
        "with open(\"test2.txt\", \"r\") as file:\n",
        "  file.seek(5)\n",
        "  print(file.read())\n",
        "\n",
        "  print()\n",
        "\n",
        "  position = file.tell()\n",
        "  print(position)"
      ],
      "metadata": {
        "colab": {
          "base_uri": "https://localhost:8080/"
        },
        "id": "tVd0TTpfxjhl",
        "outputId": "a118a543-0a54-4083-daea-519bc5add43d"
      },
      "execution_count": 30,
      "outputs": [
        {
          "output_type": "stream",
          "name": "stdout",
          "text": [
            " John\n",
            "\n",
            "10\n"
          ]
        }
      ]
    },
    {
      "cell_type": "code",
      "source": [
        "with open(\"test2.txt\", \"w\") as file:\n",
        "  file.write(\"Programming is fun\")\n",
        "  file.write(\"Python for beginners\")\n",
        "\n"
      ],
      "metadata": {
        "id": "eZYozCAlxxYC"
      },
      "execution_count": 31,
      "outputs": []
    },
    {
      "cell_type": "code",
      "source": [
        "with open(\"test2.txt\", \"r\") as file:\n",
        "  file.seek(5)\n",
        "  print(file.read())\n",
        "\n",
        "  print()\n",
        "\n",
        "  position = file.tell()\n",
        "  print(position)"
      ],
      "metadata": {
        "colab": {
          "base_uri": "https://localhost:8080/"
        },
        "id": "cJOhrZj9x64R",
        "outputId": "1ba1e342-a44c-464b-c75b-96b8eaab6e9b"
      },
      "execution_count": 32,
      "outputs": [
        {
          "output_type": "stream",
          "name": "stdout",
          "text": [
            "amming is funPython for beginners\n",
            "\n",
            "38\n"
          ]
        }
      ]
    },
    {
      "cell_type": "code",
      "source": [
        "with open(\"test2.txt\", \"w\") as file:\n",
        "  file.write(\"This is the end of the document\")"
      ],
      "metadata": {
        "id": "er1maQtX4qJ-"
      },
      "execution_count": 34,
      "outputs": []
    },
    {
      "cell_type": "code",
      "source": [
        "with open(\"test2.txt\", \"r\") as file:\n",
        "  file.seek(5)\n",
        "  print(file.read())\n",
        "\n",
        "  print()\n",
        "\n",
        "  position = file.tell()\n",
        "  print(position)"
      ],
      "metadata": {
        "colab": {
          "base_uri": "https://localhost:8080/"
        },
        "id": "_0TQefXv40IR",
        "outputId": "5607bc9b-7eea-41ed-c64f-59defced3402"
      },
      "execution_count": 35,
      "outputs": [
        {
          "output_type": "stream",
          "name": "stdout",
          "text": [
            "is the end of the document\n",
            "\n",
            "31\n"
          ]
        }
      ]
    },
    {
      "cell_type": "code",
      "source": [
        "with open(\"my_file.txt\", \"w\") as file:\n",
        "  L = [\"I Love python. Python is my favourite\"]\n",
        "  file.writelines(L)\n",
        "\n"
      ],
      "metadata": {
        "id": "2onKHm2x474F"
      },
      "execution_count": 36,
      "outputs": []
    },
    {
      "cell_type": "code",
      "source": [
        "with open(\"my_file.txt\", \"r\") as file:\n",
        "  print(file.read())\n",
        "\n",
        "  print()\n",
        "\n",
        "  position = file.tell()\n",
        "  print(position)"
      ],
      "metadata": {
        "colab": {
          "base_uri": "https://localhost:8080/"
        },
        "id": "ogU9SzZX50BI",
        "outputId": "6c85ba4c-fcbe-4527-f1ab-41c9694a7dde"
      },
      "execution_count": 37,
      "outputs": [
        {
          "output_type": "stream",
          "name": "stdout",
          "text": [
            "I Love python. Python is my favourite\n",
            "\n",
            "37\n"
          ]
        }
      ]
    },
    {
      "cell_type": "code",
      "source": [],
      "metadata": {
        "id": "AcUzdip95_MS"
      },
      "execution_count": null,
      "outputs": []
    },
    {
      "cell_type": "code",
      "source": [
        "with open(\"my_file.txt\", \"a\") as file:\n",
        "  L = [\"\\nI Love python. Python is my favourite\"]\n",
        "  file.writelines(L)"
      ],
      "metadata": {
        "id": "_bLBkorN57Aa"
      },
      "execution_count": 42,
      "outputs": []
    },
    {
      "cell_type": "code",
      "source": [
        "with open(\"my_file.txt\", \"r\") as file:\n",
        "  print(file.read())\n",
        "\n",
        "  print()\n",
        "\n",
        "  position = file.tell()\n",
        "  print(position)"
      ],
      "metadata": {
        "colab": {
          "base_uri": "https://localhost:8080/"
        },
        "id": "bVa-ltON5_86",
        "outputId": "639aa5f4-b52c-40ce-9e6c-00c8aa01ed49"
      },
      "execution_count": 124,
      "outputs": [
        {
          "output_type": "stream",
          "name": "stdout",
          "text": [
            "{\"name\": \"John\", \"age\": 30}\n",
            "\n",
            "27\n"
          ]
        }
      ]
    },
    {
      "cell_type": "code",
      "source": [
        "with open(\"my_file.txt\", \"r\") as file:\n",
        "  file.read()"
      ],
      "metadata": {
        "id": "99jK8o7O6IG8"
      },
      "execution_count": 44,
      "outputs": []
    },
    {
      "cell_type": "code",
      "source": [
        "with open(\"my_file.txt\", \"r\") as file:\n",
        "  lines = file.readlines()\n",
        ""
      ],
      "metadata": {
        "colab": {
          "base_uri": "https://localhost:8080/"
        },
        "id": "vZ_pwKaT6LIf",
        "outputId": "34e66614-c7dc-4d94-f9cb-d1e3a932f1f9"
      },
      "execution_count": 123,
      "outputs": [
        {
          "output_type": "stream",
          "name": "stdout",
          "text": [
            "['{\"name\": \"John\", \"age\": 30}']\n"
          ]
        }
      ]
    },
    {
      "cell_type": "code",
      "source": [
        "idx = []\n",
        "for line in lines:\n",
        "   idx.append(line.index(\"Python\"))"
      ],
      "metadata": {
        "id": "qzgxgao36Mc3"
      },
      "execution_count": 52,
      "outputs": []
    },
    {
      "cell_type": "code",
      "source": [
        "print(idx)"
      ],
      "metadata": {
        "colab": {
          "base_uri": "https://localhost:8080/"
        },
        "id": "JYdykD-l6gOf",
        "outputId": "abdf15d1-9068-4f8f-c18a-712eca9565c9"
      },
      "execution_count": 53,
      "outputs": [
        {
          "output_type": "stream",
          "name": "stdout",
          "text": [
            "[15, 15, 15]\n"
          ]
        }
      ]
    },
    {
      "cell_type": "code",
      "source": [
        "import json"
      ],
      "metadata": {
        "id": "rxfWo1MK69XZ"
      },
      "execution_count": 61,
      "outputs": []
    },
    {
      "cell_type": "code",
      "source": [
        "person = {\n",
        "    \"name\" :  \"John\",\n",
        "    \"age\" : 30\n",
        "}"
      ],
      "metadata": {
        "id": "mMmKFiR3CcLL"
      },
      "execution_count": 62,
      "outputs": []
    },
    {
      "cell_type": "code",
      "source": [
        "person_json = json.dumps(person)"
      ],
      "metadata": {
        "id": "m3f9tEBPCith"
      },
      "execution_count": 63,
      "outputs": []
    },
    {
      "cell_type": "code",
      "source": [
        "print(type(person_json))"
      ],
      "metadata": {
        "colab": {
          "base_uri": "https://localhost:8080/"
        },
        "id": "jhY-AxDiC2Yn",
        "outputId": "f741127d-0433-4340-d221-9974425ab476"
      },
      "execution_count": 64,
      "outputs": [
        {
          "output_type": "stream",
          "name": "stdout",
          "text": [
            "<class 'str'>\n"
          ]
        }
      ]
    },
    {
      "cell_type": "code",
      "source": [
        "print(person_json)"
      ],
      "metadata": {
        "colab": {
          "base_uri": "https://localhost:8080/"
        },
        "id": "YOqhvwcnC6E0",
        "outputId": "481bd74c-812b-4243-df7e-a630cba1209c"
      },
      "execution_count": 65,
      "outputs": [
        {
          "output_type": "stream",
          "name": "stdout",
          "text": [
            "{\"name\": \"John\", \"age\": 30}\n"
          ]
        }
      ]
    },
    {
      "cell_type": "code",
      "source": [
        "person_json = json.dumps(person, indent =4,\n",
        "                         separators = (\"; \", \"= \"), sort_keys =True)\n",
        "print(person_json)"
      ],
      "metadata": {
        "colab": {
          "base_uri": "https://localhost:8080/"
        },
        "id": "VDsBqI2IC9DF",
        "outputId": "aefe6e19-77b8-4583-9b6e-98065ac5a1f0"
      },
      "execution_count": 69,
      "outputs": [
        {
          "output_type": "stream",
          "name": "stdout",
          "text": [
            "{\n",
            "    \"age\"= 30; \n",
            "    \"name\"= \"John\"\n",
            "}\n"
          ]
        }
      ]
    },
    {
      "cell_type": "code",
      "source": [
        "with open(\"my_file.txt\", \"w\") as file:\n",
        "  json.dump(person, file)"
      ],
      "metadata": {
        "id": "ulD-NO9oJpGe"
      },
      "execution_count": 70,
      "outputs": []
    },
    {
      "cell_type": "code",
      "source": [
        "with open(\"my_file.txt\", \"r\") as file:\n",
        "  loaded_file = json.load(file)"
      ],
      "metadata": {
        "id": "hyEjhM1rJ3_A"
      },
      "execution_count": 71,
      "outputs": []
    },
    {
      "cell_type": "code",
      "source": [
        "print(type(loaded_file))"
      ],
      "metadata": {
        "colab": {
          "base_uri": "https://localhost:8080/"
        },
        "id": "PYRe6eApKAU7",
        "outputId": "fc59431a-1f91-46d5-f4f7-fc182600a15b"
      },
      "execution_count": 72,
      "outputs": [
        {
          "output_type": "stream",
          "name": "stdout",
          "text": [
            "<class 'dict'>\n"
          ]
        }
      ]
    },
    {
      "cell_type": "code",
      "source": [
        "print(loaded_file)"
      ],
      "metadata": {
        "colab": {
          "base_uri": "https://localhost:8080/"
        },
        "id": "SCm1M12mKF7k",
        "outputId": "e0a3d777-ef9a-46fd-ea7f-7460be265a0e"
      },
      "execution_count": 73,
      "outputs": [
        {
          "output_type": "stream",
          "name": "stdout",
          "text": [
            "{'name': 'John', 'age': 30}\n"
          ]
        }
      ]
    },
    {
      "cell_type": "code",
      "source": [
        "loaded_file['name']"
      ],
      "metadata": {
        "colab": {
          "base_uri": "https://localhost:8080/",
          "height": 35
        },
        "id": "Ls6yOnduKHuK",
        "outputId": "d8296de2-abda-4801-d0aa-834b2b1d7b89"
      },
      "execution_count": 75,
      "outputs": [
        {
          "output_type": "execute_result",
          "data": {
            "text/plain": [
              "'John'"
            ],
            "application/vnd.google.colaboratory.intrinsic+json": {
              "type": "string"
            }
          },
          "metadata": {},
          "execution_count": 75
        }
      ]
    },
    {
      "cell_type": "code",
      "source": [
        "person_json = \"\"\"\n",
        "{\n",
        "  \"age\": 30,\n",
        "  \"name\": \"John\"\n",
        "}\n",
        "\"\"\""
      ],
      "metadata": {
        "id": "xECjCI47KQ0W"
      },
      "execution_count": 77,
      "outputs": []
    },
    {
      "cell_type": "code",
      "source": [
        "person = json.loads(person_json)\n"
      ],
      "metadata": {
        "colab": {
          "base_uri": "https://localhost:8080/"
        },
        "id": "LCh8SLSLMyaV",
        "outputId": "2a538418-7c29-469f-f295-fddd30b94203"
      },
      "execution_count": 78,
      "outputs": [
        {
          "output_type": "execute_result",
          "data": {
            "text/plain": [
              "{'age': 30, 'name': 'John'}"
            ]
          },
          "metadata": {},
          "execution_count": 78
        }
      ]
    },
    {
      "cell_type": "code",
      "source": [
        "print(type(person))\n"
      ],
      "metadata": {
        "colab": {
          "base_uri": "https://localhost:8080/"
        },
        "id": "qLPRd4uJM2tZ",
        "outputId": "39afa6ab-6909-4ca6-d0a7-921bc14a1de9"
      },
      "execution_count": 79,
      "outputs": [
        {
          "output_type": "stream",
          "name": "stdout",
          "text": [
            "<class 'dict'>\n"
          ]
        }
      ]
    },
    {
      "cell_type": "code",
      "source": [
        "print(person)"
      ],
      "metadata": {
        "colab": {
          "base_uri": "https://localhost:8080/"
        },
        "id": "NFAbxTFXM5v3",
        "outputId": "f4688503-7f2d-4b2a-9953-8c5806ee6d46"
      },
      "execution_count": 80,
      "outputs": [
        {
          "output_type": "stream",
          "name": "stdout",
          "text": [
            "{'name': 'John', 'age': 30}\n"
          ]
        }
      ]
    },
    {
      "cell_type": "code",
      "source": [
        "person['name']"
      ],
      "metadata": {
        "colab": {
          "base_uri": "https://localhost:8080/",
          "height": 35
        },
        "id": "euFRKyPrM7fo",
        "outputId": "5e5a967a-ac1b-4cf3-d038-7fc934217d83"
      },
      "execution_count": 81,
      "outputs": [
        {
          "output_type": "execute_result",
          "data": {
            "text/plain": [
              "'John'"
            ],
            "application/vnd.google.colaboratory.intrinsic+json": {
              "type": "string"
            }
          },
          "metadata": {},
          "execution_count": 81
        }
      ]
    },
    {
      "cell_type": "code",
      "source": [
        "class Laptop:\n",
        "  def __init__(self, name, processor, hdd, ram, cost):\n",
        "    self.name = name\n",
        "    self.processor = processor\n",
        "    self.hdd = hdd\n",
        "    self.ram = ram\n",
        "    self.cost = cost\n",
        "\n",
        "laptop1 = Laptop('Dell', 'intel i7', 512, 8, 2500.00)\n",
        "\n",
        "dict1 = laptop1.__dict__\n",
        "\n",
        "print(type(dict1))\n",
        "print()\n",
        "print(dict1)"
      ],
      "metadata": {
        "colab": {
          "base_uri": "https://localhost:8080/"
        },
        "id": "nS7A_7gzM93R",
        "outputId": "6c82ba61-e95b-4b76-95d9-3ea06bb36ce2"
      },
      "execution_count": 88,
      "outputs": [
        {
          "output_type": "stream",
          "name": "stdout",
          "text": [
            "<class 'dict'>\n",
            "\n",
            "{'name': 'Dell', 'processor': 'intel i7', 'hdd': 512, 'ram': 8, 'cost': 2500.0}\n"
          ]
        }
      ]
    },
    {
      "cell_type": "code",
      "source": [
        "jsonStr = json.dumps(dict1)\n"
      ],
      "metadata": {
        "id": "vDCEDN64OVdI"
      },
      "execution_count": 89,
      "outputs": []
    },
    {
      "cell_type": "code",
      "source": [
        "print(type(jsonStr))\n",
        "print()\n",
        "print(jsonStr)"
      ],
      "metadata": {
        "colab": {
          "base_uri": "https://localhost:8080/"
        },
        "id": "Ks2ufuWpOZIW",
        "outputId": "6683b361-5d8c-4544-8965-dabb08417ddf"
      },
      "execution_count": 91,
      "outputs": [
        {
          "output_type": "stream",
          "name": "stdout",
          "text": [
            "<class 'str'>\n",
            "\n",
            "{\"name\": \"Dell\", \"processor\": \"intel i7\", \"hdd\": 512, \"ram\": 8, \"cost\": 2500.0}\n"
          ]
        }
      ]
    },
    {
      "cell_type": "code",
      "source": [
        "my_language = \"Java\"\n",
        "print(f\"{my_language} is a great language\" )"
      ],
      "metadata": {
        "colab": {
          "base_uri": "https://localhost:8080/"
        },
        "id": "IM0wLgK8OiyF",
        "outputId": "86fcc79a-ff52-4d4f-96c6-140695578948"
      },
      "execution_count": 93,
      "outputs": [
        {
          "output_type": "stream",
          "name": "stdout",
          "text": [
            "Java is a great language\n"
          ]
        }
      ]
    },
    {
      "cell_type": "code",
      "source": [
        "try:\n",
        "  num = int(input(\"Enter an even number\"))\n",
        "  if num % 2 != 0:\n",
        "     raise Exception(\"raise an exception\")\n",
        "except:\n",
        "  print(\"not an even number\")\n",
        "else:\n",
        "  reciprocal = 1/num\n",
        "  print()\n",
        "  print(reciprocal)\n",
        "finally:\n",
        "  print(\"Run completed\")"
      ],
      "metadata": {
        "colab": {
          "base_uri": "https://localhost:8080/"
        },
        "id": "_Grlo6n5POw7",
        "outputId": "56c7f6b5-0d43-464c-8f83-76ff90a537fc"
      },
      "execution_count": 110,
      "outputs": [
        {
          "output_type": "stream",
          "name": "stdout",
          "text": [
            "Enter an even number1\n",
            "not an even number\n",
            "Run completed\n"
          ]
        }
      ]
    },
    {
      "cell_type": "code",
      "source": [
        "class CustomError(Exception):\n",
        "  def __init__(self, message):\n",
        "    self.message = message"
      ],
      "metadata": {
        "id": "_-pu3_CLPyh6"
      },
      "execution_count": 104,
      "outputs": []
    },
    {
      "cell_type": "code",
      "source": [
        "try:\n",
        "  raise CustomError(\"This is a custom error\")\n",
        "except Exception as e:\n",
        "  print(type(e))\n",
        "  print(e)\n",
        "  print(e.message)\n"
      ],
      "metadata": {
        "colab": {
          "base_uri": "https://localhost:8080/"
        },
        "id": "DjAE3ujoP9yg",
        "outputId": "803c17c1-cc7f-433b-8f6c-399930eeb989"
      },
      "execution_count": 106,
      "outputs": [
        {
          "output_type": "stream",
          "name": "stdout",
          "text": [
            "<class '__main__.CustomError'>\n",
            "This is a custom error\n",
            "This is a custom error\n"
          ]
        }
      ]
    },
    {
      "cell_type": "code",
      "source": [],
      "metadata": {
        "id": "XLYVQ8juQTW1"
      },
      "execution_count": null,
      "outputs": []
    }
  ]
}