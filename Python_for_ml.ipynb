{
  "nbformat": 4,
  "nbformat_minor": 0,
  "metadata": {
    "colab": {
      "provenance": [],
      "authorship_tag": "ABX9TyPVvTGw2R+1CkfxA0COvK//",
      "include_colab_link": true
    },
    "kernelspec": {
      "name": "python3",
      "display_name": "Python 3"
    },
    "language_info": {
      "name": "python"
    }
  },
  "cells": [
    {
      "cell_type": "markdown",
      "metadata": {
        "id": "view-in-github",
        "colab_type": "text"
      },
      "source": [
        "<a href=\"https://colab.research.google.com/github/srikanth15650/test/blob/main/Python_for_ml.ipynb\" target=\"_parent\"><img src=\"https://colab.research.google.com/assets/colab-badge.svg\" alt=\"Open In Colab\"/></a>"
      ]
    },
    {
      "cell_type": "code",
      "execution_count": null,
      "metadata": {
        "colab": {
          "base_uri": "https://localhost:8080/"
        },
        "id": "WbSWA5n5Lc9q",
        "outputId": "a91cbdb3-36d8-4900-9e81-5b7ee089dc5e"
      },
      "outputs": [
        {
          "output_type": "stream",
          "name": "stdout",
          "text": [
            "5\n",
            "6\n"
          ]
        }
      ],
      "source": [
        "def example_function():\n",
        "  local_var = 5\n",
        "  print(local_var)\n",
        "\n",
        "local_var = 6\n",
        "example_function()\n",
        "print(local_var)"
      ]
    },
    {
      "cell_type": "code",
      "source": [
        "def outer_function():\n",
        "    nonlocal_var = 10\n",
        "\n",
        "    def inner_function():\n",
        "      nonlocal nonlocal_var\n",
        "      nonlocal_var += 5\n",
        "\n",
        "    inner_function()\n",
        "    print(nonlocal_var)\n",
        "\n",
        "outer_function()"
      ],
      "metadata": {
        "colab": {
          "base_uri": "https://localhost:8080/"
        },
        "id": "IGOQTsNbLxsh",
        "outputId": "b6f17a6a-f18a-4873-abe8-01d6e706c132"
      },
      "execution_count": null,
      "outputs": [
        {
          "output_type": "stream",
          "name": "stdout",
          "text": [
            "15\n"
          ]
        }
      ]
    },
    {
      "cell_type": "code",
      "source": [
        "global_var = 20\n",
        "def example_function():\n",
        "  global global_var\n",
        "  global_var += 5\n",
        "\n",
        "print(global_var)\n",
        "example_function()\n",
        "print(global_var)"
      ],
      "metadata": {
        "colab": {
          "base_uri": "https://localhost:8080/"
        },
        "id": "1v3HPyUMN8zl",
        "outputId": "ce2798d8-e1cc-4761-c08f-53c64eeea0ef"
      },
      "execution_count": null,
      "outputs": [
        {
          "output_type": "stream",
          "name": "stdout",
          "text": [
            "20\n",
            "25\n"
          ]
        }
      ]
    },
    {
      "cell_type": "code",
      "source": [
        "class Student:\n",
        "\n",
        "  def __init__(self, name):\n",
        "      self.name = name\n",
        "\n",
        "  def study(self):\n",
        "    print(self.name, \"is studying\")\n"
      ],
      "metadata": {
        "id": "Th9aIH0VOMgI"
      },
      "execution_count": null,
      "outputs": []
    },
    {
      "cell_type": "code",
      "source": [
        "student1 = Student(\"John\")\n",
        "print(type(student1))\n",
        "student1.study()"
      ],
      "metadata": {
        "colab": {
          "base_uri": "https://localhost:8080/"
        },
        "id": "DTZW32Yhr2Vu",
        "outputId": "f9c2a80b-0895-4a61-a5bb-59484b3a5de6"
      },
      "execution_count": null,
      "outputs": [
        {
          "output_type": "stream",
          "name": "stdout",
          "text": [
            "<class '__main__.Student'>\n",
            "John is studying\n"
          ]
        }
      ]
    },
    {
      "cell_type": "code",
      "source": [
        "student2 = Student(\"Mary\")\n",
        "student2.study()\n",
        "\n"
      ],
      "metadata": {
        "colab": {
          "base_uri": "https://localhost:8080/"
        },
        "id": "4ieYLznhsMqJ",
        "outputId": "d0d0dc92-654f-4c48-ac6b-b6f645de516d"
      },
      "execution_count": null,
      "outputs": [
        {
          "output_type": "stream",
          "name": "stdout",
          "text": [
            "Mary is studying\n"
          ]
        }
      ]
    },
    {
      "cell_type": "code",
      "source": [
        "class Dog:\n",
        "    def __init__(self, name, age, weight):\n",
        "        self.name = name\n",
        "        self.age = age\n",
        "        self.weight = weight\n",
        "        print(\"Created a new object of the name \"+ name)\n",
        "\n",
        "    def walk(self):\n",
        "        print(\"I am walking\" + self.name)\n",
        "\n",
        "    def weigh(self):\n",
        "        print(self.name + \"'s has weight \" + str(self.weight))\n",
        "\n",
        "    def __repr__(self):\n",
        "        return \"Name \" + self.name + \" Age \" + str(self.age) + \" Weight \"+ str(self.weight)\n",
        "\n"
      ],
      "metadata": {
        "id": "fa5o4_pi8gsT"
      },
      "execution_count": 2,
      "outputs": []
    },
    {
      "cell_type": "code",
      "source": [
        "dog1 = Dog(\"Sky\", 15, 15)\n",
        "dog1.walk()\n",
        "dog1.weigh()\n",
        "print(dog1)\n"
      ],
      "metadata": {
        "colab": {
          "base_uri": "https://localhost:8080/"
        },
        "id": "ShgBvY9A8jEb",
        "outputId": "1c5121ba-db50-482b-bdfe-18e9aee1830c"
      },
      "execution_count": 8,
      "outputs": [
        {
          "output_type": "stream",
          "name": "stdout",
          "text": [
            "Created a new object of the name Sky\n",
            "I am walkingSky\n",
            "Sky's has weight 15\n",
            "Name Sky Age 15 Weight 15\n"
          ]
        }
      ]
    },
    {
      "cell_type": "code",
      "source": [
        "dog2 = Dog(\"second dog\", 15, 15)\n",
        "dog2.walk()\n",
        "dog2.weigh()\n",
        "print(dog2)\n",
        "\n",
        "\n"
      ],
      "metadata": {
        "id": "eBKuC7_ggaXh",
        "colab": {
          "base_uri": "https://localhost:8080/"
        },
        "outputId": "632d1a4c-cf82-4722-df5a-3b28e05e06c5"
      },
      "execution_count": 9,
      "outputs": [
        {
          "output_type": "stream",
          "name": "stdout",
          "text": [
            "Created a new object of the name second dog\n",
            "I am walkingsecond dog\n",
            "second dog's has weight 15\n",
            "Name second dog Age 15 Weight 15\n"
          ]
        }
      ]
    },
    {
      "cell_type": "code",
      "source": [
        "my_list = []\n",
        "my_list.append(dog1)\n",
        "my_list.append(dog2)\n",
        "my_list.append(\"Dogs\")"
      ],
      "metadata": {
        "id": "cDP-SFMHsUEC"
      },
      "execution_count": 11,
      "outputs": []
    },
    {
      "cell_type": "code",
      "source": [
        "my_list"
      ],
      "metadata": {
        "colab": {
          "base_uri": "https://localhost:8080/"
        },
        "id": "cnqHZ_cisqDh",
        "outputId": "10c47a7b-7e92-435d-caa3-5d901af82b84"
      },
      "execution_count": 12,
      "outputs": [
        {
          "output_type": "execute_result",
          "data": {
            "text/plain": [
              "[Name Sky Age 15 Weight 15, Name second dog Age 15 Weight 15, 'Dogs']"
            ]
          },
          "metadata": {},
          "execution_count": 12
        }
      ]
    },
    {
      "cell_type": "code",
      "source": [
        "class Student:\n",
        "  def __init__(self, ID, name, gpa):\n",
        "    self.ID= ID\n",
        "    self.name =name\n",
        "    self.gpa = gpa\n",
        "\n",
        "  def __repr__(self):\n",
        "    return \"Student = \" + self.name\n",
        "\n",
        "class Course:\n",
        "  def __init__(self,name):\n",
        "    self.name = name\n",
        "    self.list_of_students = []\n",
        "\n",
        "  def add_a_student(self, student_obj):\n",
        "    self.list_of_students.append(student_obj)\n",
        "\n",
        "  def find_top(self):\n",
        "    max_gpa = 0\n",
        "    top_student = None\n",
        "    for student in self.list_of_students:\n",
        "       if(student.gpa > max_gpa):\n",
        "         max_gpa = student.gpa\n",
        "         top_student = student\n",
        "    return top_student"
      ],
      "metadata": {
        "id": "i0k6VFWgstMg"
      },
      "execution_count": 32,
      "outputs": []
    },
    {
      "cell_type": "code",
      "source": [
        "student_A = Student(12, \"Mary\" , 4)\n",
        "student_B = Student(213, \"Bob\", 3)\n",
        "student_C = Student(47, \"Jill\", 2.5)\n",
        "\n",
        "math_course = Course(\"Math\")"
      ],
      "metadata": {
        "id": "IR4U-PTvt_SY"
      },
      "execution_count": 33,
      "outputs": []
    },
    {
      "cell_type": "code",
      "source": [
        "math_course.add_a_student(student_A)\n",
        "math_course.add_a_student(student_B)\n",
        "math_course.add_a_student(student_C)\n"
      ],
      "metadata": {
        "id": "MqI4L0FJuUob"
      },
      "execution_count": 34,
      "outputs": []
    },
    {
      "cell_type": "code",
      "source": [
        "print(math_course.list_of_students)"
      ],
      "metadata": {
        "colab": {
          "base_uri": "https://localhost:8080/"
        },
        "id": "YD6fowr8zQoq",
        "outputId": "9dfc9aa1-46c4-4e5c-80ee-c14cd989386a"
      },
      "execution_count": 35,
      "outputs": [
        {
          "output_type": "stream",
          "name": "stdout",
          "text": [
            "[Student = Mary, Student = Bob, Student = Jill]\n"
          ]
        }
      ]
    },
    {
      "cell_type": "code",
      "source": [
        "top_student = math_course.find_top()"
      ],
      "metadata": {
        "id": "IcMr306lzacw"
      },
      "execution_count": 36,
      "outputs": []
    },
    {
      "cell_type": "code",
      "source": [
        "print(\"The top student is \"+ top_student.name +\n",
        "      \" with GPA \" + str(top_student.gpa) +\n",
        "      \" with ID \" + str(top_student.ID))\n"
      ],
      "metadata": {
        "colab": {
          "base_uri": "https://localhost:8080/"
        },
        "id": "mzXrRn52zffe",
        "outputId": "eab8d987-b383-43b8-dab7-bf4d5b37a1fa"
      },
      "execution_count": 43,
      "outputs": [
        {
          "output_type": "stream",
          "name": "stdout",
          "text": [
            "The top student is Mary with GPA 4 with ID 12\n"
          ]
        }
      ]
    },
    {
      "cell_type": "code",
      "source": [
        "class Employee:\n",
        "  def __init__(self, name, salary ):\n",
        "    self.name = name\n",
        "    self.salary = salary\n",
        "\n",
        "  def __repr__(self):\n",
        "    return '(' + self.name + ', ' + str(self.salary) +')'\n",
        "\n",
        "employee1 = Employee(\"Matt\" , 2000)\n"
      ],
      "metadata": {
        "id": "7puFay5Ez_c-"
      },
      "execution_count": 46,
      "outputs": []
    },
    {
      "cell_type": "code",
      "source": [
        "hasattr(employee1, 'salary')"
      ],
      "metadata": {
        "colab": {
          "base_uri": "https://localhost:8080/"
        },
        "id": "335nFdjt0pXS",
        "outputId": "b52a5718-b789-431e-c223-70ef9e0a6c05"
      },
      "execution_count": 47,
      "outputs": [
        {
          "output_type": "execute_result",
          "data": {
            "text/plain": [
              "True"
            ]
          },
          "metadata": {},
          "execution_count": 47
        }
      ]
    },
    {
      "cell_type": "code",
      "source": [
        "getattr(employee1, 'salary')"
      ],
      "metadata": {
        "colab": {
          "base_uri": "https://localhost:8080/"
        },
        "id": "c3nxPiBX0v8z",
        "outputId": "c76bc13a-748a-418e-d82d-631d9bac1f31"
      },
      "execution_count": 48,
      "outputs": [
        {
          "output_type": "execute_result",
          "data": {
            "text/plain": [
              "2000"
            ]
          },
          "metadata": {},
          "execution_count": 48
        }
      ]
    },
    {
      "cell_type": "code",
      "source": [
        "setattr(employee1, 'salary', 7000)\n",
        "getattr(employee1, 'salary')"
      ],
      "metadata": {
        "colab": {
          "base_uri": "https://localhost:8080/"
        },
        "id": "cagGKZEl0yL1",
        "outputId": "7d079a88-11d0-44de-e591-fb4e157a9ba8"
      },
      "execution_count": 57,
      "outputs": [
        {
          "output_type": "execute_result",
          "data": {
            "text/plain": [
              "7000"
            ]
          },
          "metadata": {},
          "execution_count": 57
        }
      ]
    },
    {
      "cell_type": "code",
      "source": [
        "delattr(employee1, 'salary')\n",
        "getattr(employee1, 'salary')\n"
      ],
      "metadata": {
        "colab": {
          "base_uri": "https://localhost:8080/",
          "height": 156
        },
        "id": "dSNaGLjV05Rh",
        "outputId": "af262691-7857-4cec-c645-706df1c4f36f"
      },
      "execution_count": 58,
      "outputs": [
        {
          "output_type": "error",
          "ename": "AttributeError",
          "evalue": "'Employee' object has no attribute 'salary'",
          "traceback": [
            "\u001b[0;31m---------------------------------------------------------------------------\u001b[0m",
            "\u001b[0;31mAttributeError\u001b[0m                            Traceback (most recent call last)",
            "\u001b[0;32m<ipython-input-58-695d13515495>\u001b[0m in \u001b[0;36m<cell line: 0>\u001b[0;34m()\u001b[0m\n\u001b[1;32m      1\u001b[0m \u001b[0mdelattr\u001b[0m\u001b[0;34m(\u001b[0m\u001b[0memployee1\u001b[0m\u001b[0;34m,\u001b[0m \u001b[0;34m'salary'\u001b[0m\u001b[0;34m)\u001b[0m\u001b[0;34m\u001b[0m\u001b[0;34m\u001b[0m\u001b[0m\n\u001b[0;32m----> 2\u001b[0;31m \u001b[0mgetattr\u001b[0m\u001b[0;34m(\u001b[0m\u001b[0memployee1\u001b[0m\u001b[0;34m,\u001b[0m \u001b[0;34m'salary'\u001b[0m\u001b[0;34m)\u001b[0m\u001b[0;34m\u001b[0m\u001b[0;34m\u001b[0m\u001b[0m\n\u001b[0m",
            "\u001b[0;31mAttributeError\u001b[0m: 'Employee' object has no attribute 'salary'"
          ]
        }
      ]
    },
    {
      "cell_type": "code",
      "source": [
        "class Book:\n",
        "\n",
        "  def __init(self, title, quantity, author, price):\n",
        "    self.title = title\n",
        "    self.quantity = quantity\n",
        "    self.author = author\n",
        "    self.price = price\n",
        "\n",
        "  def set_discount(self, discount):\n",
        "    self.discount = discount\n",
        "\n",
        "  def get_price(self):\n",
        "    if self.dicount:\n",
        "        return self.price * (1 - self.discount)\n",
        "    return self.price\n",
        "\n",
        "  def __repr__(self):\n",
        "    return f\"Book: {self.title}, Quantity: {self.quantity}, Author: {self.author}, Price: {self.get_price}\"\n",
        "\n",
        "\n",
        "class Novel(Book):\n",
        "\n",
        "  def __init__(self, title, quantity, author, price, genre):\n",
        "     super().__init__(title, quantity, author, price)\n",
        "     self.genre = genre\n",
        "\n",
        "\n",
        "class Academic(Book):\n",
        "  def __init__(self, title, quantity, author, price, branch):\n",
        "    super().__init__(title, quantity, author, price)\n",
        "    self.branch = branch\n",
        "\n",
        "\n",
        "\n",
        "\n"
      ],
      "metadata": {
        "id": "1bWszt7p1l7u"
      },
      "execution_count": 78,
      "outputs": []
    },
    {
      "cell_type": "code",
      "source": [
        "novel1 = Novel('2 states', 20,  'Matt W', 80, 'Fiction')\n",
        "novel1.set_discount(0.20)\n",
        "print(novel1)\n",
        "\n",
        "academic1 = Academic('Python Foundations', 12 , 'P.sauls', 'IT' , 'Tech')\n",
        "print(academic1)"
      ],
      "metadata": {
        "colab": {
          "base_uri": "https://localhost:8080/",
          "height": 326
        },
        "id": "E7qijeGwA5qk",
        "outputId": "98debde5-00a6-429b-83c0-4b840dd01b09"
      },
      "execution_count": 83,
      "outputs": [
        {
          "output_type": "error",
          "ename": "TypeError",
          "evalue": "object.__init__() takes exactly one argument (the instance to initialize)",
          "traceback": [
            "\u001b[0;31m---------------------------------------------------------------------------\u001b[0m",
            "\u001b[0;31mTypeError\u001b[0m                                 Traceback (most recent call last)",
            "\u001b[0;32m<ipython-input-83-315222af9cb4>\u001b[0m in \u001b[0;36m<cell line: 0>\u001b[0;34m()\u001b[0m\n\u001b[0;32m----> 1\u001b[0;31m \u001b[0mnovel1\u001b[0m \u001b[0;34m=\u001b[0m \u001b[0mNovel\u001b[0m\u001b[0;34m(\u001b[0m\u001b[0;34m'2 states'\u001b[0m\u001b[0;34m,\u001b[0m \u001b[0;36m20\u001b[0m\u001b[0;34m,\u001b[0m  \u001b[0;34m'Matt W'\u001b[0m\u001b[0;34m,\u001b[0m \u001b[0;36m80\u001b[0m\u001b[0;34m,\u001b[0m \u001b[0;34m'Fiction'\u001b[0m\u001b[0;34m)\u001b[0m\u001b[0;34m\u001b[0m\u001b[0;34m\u001b[0m\u001b[0m\n\u001b[0m\u001b[1;32m      2\u001b[0m \u001b[0mnovel1\u001b[0m\u001b[0;34m.\u001b[0m\u001b[0mset_discount\u001b[0m\u001b[0;34m(\u001b[0m\u001b[0;36m0.20\u001b[0m\u001b[0;34m)\u001b[0m\u001b[0;34m\u001b[0m\u001b[0;34m\u001b[0m\u001b[0m\n\u001b[1;32m      3\u001b[0m \u001b[0mprint\u001b[0m\u001b[0;34m(\u001b[0m\u001b[0mnovel1\u001b[0m\u001b[0;34m)\u001b[0m\u001b[0;34m\u001b[0m\u001b[0;34m\u001b[0m\u001b[0m\n\u001b[1;32m      4\u001b[0m \u001b[0;34m\u001b[0m\u001b[0m\n\u001b[1;32m      5\u001b[0m \u001b[0macademic1\u001b[0m \u001b[0;34m=\u001b[0m \u001b[0mAcademic\u001b[0m\u001b[0;34m(\u001b[0m\u001b[0;34m'Python Foundations'\u001b[0m\u001b[0;34m,\u001b[0m \u001b[0;36m12\u001b[0m \u001b[0;34m,\u001b[0m \u001b[0;34m'P.sauls'\u001b[0m\u001b[0;34m,\u001b[0m \u001b[0;34m'IT'\u001b[0m \u001b[0;34m,\u001b[0m \u001b[0;34m'Tech'\u001b[0m\u001b[0;34m)\u001b[0m\u001b[0;34m\u001b[0m\u001b[0;34m\u001b[0m\u001b[0m\n",
            "\u001b[0;32m<ipython-input-78-16fbab23a6bf>\u001b[0m in \u001b[0;36m__init__\u001b[0;34m(self, title, quantity, author, price, genre)\u001b[0m\n\u001b[1;32m     22\u001b[0m \u001b[0;34m\u001b[0m\u001b[0m\n\u001b[1;32m     23\u001b[0m   \u001b[0;32mdef\u001b[0m \u001b[0m__init__\u001b[0m\u001b[0;34m(\u001b[0m\u001b[0mself\u001b[0m\u001b[0;34m,\u001b[0m \u001b[0mtitle\u001b[0m\u001b[0;34m,\u001b[0m \u001b[0mquantity\u001b[0m\u001b[0;34m,\u001b[0m \u001b[0mauthor\u001b[0m\u001b[0;34m,\u001b[0m \u001b[0mprice\u001b[0m\u001b[0;34m,\u001b[0m \u001b[0mgenre\u001b[0m\u001b[0;34m)\u001b[0m\u001b[0;34m:\u001b[0m\u001b[0;34m\u001b[0m\u001b[0;34m\u001b[0m\u001b[0m\n\u001b[0;32m---> 24\u001b[0;31m      \u001b[0msuper\u001b[0m\u001b[0;34m(\u001b[0m\u001b[0;34m)\u001b[0m\u001b[0;34m.\u001b[0m\u001b[0m__init__\u001b[0m\u001b[0;34m(\u001b[0m\u001b[0mtitle\u001b[0m\u001b[0;34m,\u001b[0m \u001b[0mquantity\u001b[0m\u001b[0;34m,\u001b[0m \u001b[0mauthor\u001b[0m\u001b[0;34m,\u001b[0m \u001b[0mprice\u001b[0m\u001b[0;34m)\u001b[0m\u001b[0;34m\u001b[0m\u001b[0;34m\u001b[0m\u001b[0m\n\u001b[0m\u001b[1;32m     25\u001b[0m      \u001b[0mself\u001b[0m\u001b[0;34m.\u001b[0m\u001b[0mgenre\u001b[0m \u001b[0;34m=\u001b[0m \u001b[0mgenre\u001b[0m\u001b[0;34m\u001b[0m\u001b[0;34m\u001b[0m\u001b[0m\n\u001b[1;32m     26\u001b[0m \u001b[0;34m\u001b[0m\u001b[0m\n",
            "\u001b[0;31mTypeError\u001b[0m: object.__init__() takes exactly one argument (the instance to initialize)"
          ]
        }
      ]
    },
    {
      "cell_type": "code",
      "source": [
        "class A:\n",
        "  def method_a(self):\n",
        "    print(\"Method A from class A\")\n",
        "\n",
        "class B:\n",
        "  def method_b(self):\n",
        "    print(\"Method B from class B\")\n",
        "\n",
        "class C(A, B):\n",
        "  def method_c(self):\n",
        "    print(\"Method C from class C\")\n",
        "\n",
        "obj = C()\n",
        "\n",
        "obj.method_a()\n",
        "\n",
        "obj.method_b()\n",
        "\n",
        "obj.method_c()\n"
      ],
      "metadata": {
        "colab": {
          "base_uri": "https://localhost:8080/"
        },
        "id": "0TEKnKzaCX2r",
        "outputId": "aa9c342d-71b2-4ef5-f56d-9fa230477acb"
      },
      "execution_count": 85,
      "outputs": [
        {
          "output_type": "stream",
          "name": "stdout",
          "text": [
            "Method A from class A\n",
            "Method B from class B\n",
            "Method C from class C\n"
          ]
        }
      ]
    },
    {
      "cell_type": "code",
      "source": [
        "class MyClass:\n",
        "  def __init__(self):\n",
        "    self.public_attribute = 42\n",
        "\n",
        "  def public_method(self):\n",
        "    return \"This is a public method\"\n",
        "\n",
        "obj = MyClass()\n",
        "\n",
        "print(obj.public_attribute)\n",
        "print(obj.public_method())"
      ],
      "metadata": {
        "colab": {
          "base_uri": "https://localhost:8080/"
        },
        "id": "qWPVhQ-VFZVA",
        "outputId": "6833c631-2584-4bf0-f6d3-23a7b2b07841"
      },
      "execution_count": 86,
      "outputs": [
        {
          "output_type": "stream",
          "name": "stdout",
          "text": [
            "42\n",
            "This is a public method\n"
          ]
        }
      ]
    },
    {
      "cell_type": "code",
      "source": [
        "class MyClass:\n",
        "  def __init__(self):\n",
        "    self._protected_attribute = 42\n",
        "\n",
        "  def _protected_method(self):\n",
        "    return \"This is protected method\"\n",
        "\n",
        "obj = MyClass()\n",
        "\n",
        "print(obj._protected_attribute)\n",
        "print(obj._protected_method())"
      ],
      "metadata": {
        "colab": {
          "base_uri": "https://localhost:8080/"
        },
        "id": "YqXSvXcXFtjT",
        "outputId": "993fa498-344c-41e5-dcd4-38cf66f75967"
      },
      "execution_count": 96,
      "outputs": [
        {
          "output_type": "stream",
          "name": "stdout",
          "text": [
            "42\n",
            "This is protected method\n"
          ]
        }
      ]
    },
    {
      "cell_type": "code",
      "source": [
        "class MyClass:\n",
        "  def __init__(self):\n",
        "    self.__private_attribute = 42\n",
        "\n",
        "  def __private_method(self):\n",
        "    return \"Thisis private method\"\n",
        "\n",
        "\n",
        "obj = MyClass()\n",
        "\n",
        "print(obj.__private_attribute)\n",
        "print(obj.__private_method())"
      ],
      "metadata": {
        "colab": {
          "base_uri": "https://localhost:8080/",
          "height": 190
        },
        "id": "5rokLT7EGQw6",
        "outputId": "cda9ada8-a698-4487-fb51-0193b7c887d8"
      },
      "execution_count": 97,
      "outputs": [
        {
          "output_type": "error",
          "ename": "AttributeError",
          "evalue": "'MyClass' object has no attribute '__private_attribute'",
          "traceback": [
            "\u001b[0;31m---------------------------------------------------------------------------\u001b[0m",
            "\u001b[0;31mAttributeError\u001b[0m                            Traceback (most recent call last)",
            "\u001b[0;32m<ipython-input-97-03b4b57d369b>\u001b[0m in \u001b[0;36m<cell line: 0>\u001b[0;34m()\u001b[0m\n\u001b[1;32m      9\u001b[0m \u001b[0mobj\u001b[0m \u001b[0;34m=\u001b[0m \u001b[0mMyClass\u001b[0m\u001b[0;34m(\u001b[0m\u001b[0;34m)\u001b[0m\u001b[0;34m\u001b[0m\u001b[0;34m\u001b[0m\u001b[0m\n\u001b[1;32m     10\u001b[0m \u001b[0;34m\u001b[0m\u001b[0m\n\u001b[0;32m---> 11\u001b[0;31m \u001b[0mprint\u001b[0m\u001b[0;34m(\u001b[0m\u001b[0mobj\u001b[0m\u001b[0;34m.\u001b[0m\u001b[0m__private_attribute\u001b[0m\u001b[0;34m)\u001b[0m\u001b[0;34m\u001b[0m\u001b[0;34m\u001b[0m\u001b[0m\n\u001b[0m\u001b[1;32m     12\u001b[0m \u001b[0mprint\u001b[0m\u001b[0;34m(\u001b[0m\u001b[0mobj\u001b[0m\u001b[0;34m.\u001b[0m\u001b[0m__private_method\u001b[0m\u001b[0;34m(\u001b[0m\u001b[0;34m)\u001b[0m\u001b[0;34m)\u001b[0m\u001b[0;34m\u001b[0m\u001b[0;34m\u001b[0m\u001b[0m\n",
            "\u001b[0;31mAttributeError\u001b[0m: 'MyClass' object has no attribute '__private_attribute'"
          ]
        }
      ]
    },
    {
      "cell_type": "code",
      "source": [
        "class Person:\n",
        "\n",
        "  def __init__(self, name ,age):\n",
        "    self.name =name\n",
        "    self.__age = age\n",
        "\n",
        "  def get_age(self):\n",
        "    if(self.__age < 0):\n",
        "      print(\"This is not a valid age\")\n",
        "      return -1\n",
        "    return self.__age\n",
        "\n",
        "  def set_age(self, x):\n",
        "    if x < 0:\n",
        "      self.__age = 0\n",
        "    self.__age = x\n"
      ],
      "metadata": {
        "id": "79TYEJrwG1ya"
      },
      "execution_count": 105,
      "outputs": []
    },
    {
      "cell_type": "code",
      "source": [
        "p1 = Person(\"Matt\", 20)\n",
        "\n",
        "print(p1.get_age())"
      ],
      "metadata": {
        "colab": {
          "base_uri": "https://localhost:8080/"
        },
        "id": "tSY1VqmnI8h-",
        "outputId": "fff10bd1-f1fb-4e59-f580-36c14842e491"
      },
      "execution_count": 106,
      "outputs": [
        {
          "output_type": "stream",
          "name": "stdout",
          "text": [
            "20\n"
          ]
        }
      ]
    },
    {
      "cell_type": "code",
      "source": [
        "p1.set_age(21)\n",
        "print(p1.get_age())"
      ],
      "metadata": {
        "colab": {
          "base_uri": "https://localhost:8080/"
        },
        "id": "Nr5ks7zzKnyh",
        "outputId": "759ef79b-84de-416f-8dd7-c3404cced1b2"
      },
      "execution_count": 108,
      "outputs": [
        {
          "output_type": "stream",
          "name": "stdout",
          "text": [
            "21\n"
          ]
        }
      ]
    },
    {
      "cell_type": "code",
      "source": [
        "p1.set_age(-1)\n",
        "print(p1.get_age())"
      ],
      "metadata": {
        "colab": {
          "base_uri": "https://localhost:8080/"
        },
        "id": "V7yOVQZ9KtyA",
        "outputId": "0ef7c4d4-bc9b-49e6-8a7c-557dbb8c698c"
      },
      "execution_count": 109,
      "outputs": [
        {
          "output_type": "stream",
          "name": "stdout",
          "text": [
            "This is not a valid age\n",
            "-1\n"
          ]
        }
      ]
    },
    {
      "cell_type": "code",
      "source": [
        "class Shape:\n",
        "  def area(self):\n",
        "    pass\n",
        "\n",
        "class Circle(Shape):\n",
        "  def __init__(self, radius):\n",
        "    self.radius = radius\n",
        "\n",
        "  def area(self):\n",
        "     return 3.14159 * self.radius **2\n",
        "\n",
        "class Rectangle(Shape):\n",
        "  def __init__(self, width, height):\n",
        "    self.width = width\n",
        "    self.height = height\n",
        "\n",
        "\n",
        "  def area(self):\n",
        "     return self.width * self.height\n",
        "\n",
        "\n",
        "def calculate_area(shape):\n",
        "  return (shape.area())\n",
        "\n"
      ],
      "metadata": {
        "id": "GF3XDXFTKyxY"
      },
      "execution_count": 111,
      "outputs": []
    },
    {
      "cell_type": "code",
      "source": [
        "my_circle = Circle(5)\n",
        "my_rectangle = Rectangle(4, 6)\n",
        "\n",
        "print(f\"Circle Area : {calculate_area(my_circle)}\")\n",
        "print(f\"Rectangle Area : {calculate_area(my_rectangle)}\")"
      ],
      "metadata": {
        "colab": {
          "base_uri": "https://localhost:8080/"
        },
        "id": "xSQf6agYLjTO",
        "outputId": "dbc597ba-5ee8-458c-ad97-7a4dc9edbf05"
      },
      "execution_count": 117,
      "outputs": [
        {
          "output_type": "stream",
          "name": "stdout",
          "text": [
            "Circle Area : 78.53975\n",
            "Rectangle Area : 24\n"
          ]
        }
      ]
    },
    {
      "cell_type": "code",
      "source": [
        "class MyHashMap:\n",
        "\n",
        "  def __init__(self):\n",
        "    self.my_list = []\n",
        "\n",
        "  def put(self, key:int, value:int) -> None:\n",
        "    for pair in self.my_list:\n",
        "       if key == pair[0]:\n",
        "          pair[1] = value\n",
        "          return\n",
        "    pair = [key, value]\n",
        "    self.my_list.append(pair)\n",
        "\n",
        "\n",
        "  def get(self, key:int) -> int:\n",
        "    for pair in self.my_list:\n",
        "      if key == pair[0]:\n",
        "        return pair[1]\n",
        "\n",
        "    return -1\n",
        "\n",
        "  def remove(self, key:int) -> None:\n",
        "    for pair in self.my_list:\n",
        "      if key == pair[0]:\n",
        "          self.my_list.remove(pair)\n",
        "          return"
      ],
      "metadata": {
        "id": "Ut4f0hy5L-pI"
      },
      "execution_count": 17,
      "outputs": []
    },
    {
      "cell_type": "code",
      "source": [
        "myHashMap = MyHashMap()\n",
        "print(myHashMap.my_list)"
      ],
      "metadata": {
        "colab": {
          "base_uri": "https://localhost:8080/"
        },
        "id": "8eIGUuK2MhCn",
        "outputId": "1e1a03a5-a98c-4f15-be24-8f08b108295f"
      },
      "execution_count": 23,
      "outputs": [
        {
          "output_type": "stream",
          "name": "stdout",
          "text": [
            "[]\n"
          ]
        }
      ]
    },
    {
      "cell_type": "code",
      "source": [
        "myHashMap.put(1,1)\n",
        "print(myHashMap)\n"
      ],
      "metadata": {
        "colab": {
          "base_uri": "https://localhost:8080/"
        },
        "id": "5QPY13-hOue1",
        "outputId": "cf2c14e5-6897-4d09-c587-8425fcf57c0c"
      },
      "execution_count": 24,
      "outputs": [
        {
          "output_type": "stream",
          "name": "stdout",
          "text": [
            "<__main__.MyHashMap object at 0x7c54f2ee82d0>\n"
          ]
        }
      ]
    },
    {
      "cell_type": "code",
      "source": [
        "myHashMap.put(2,2)\n",
        "print(myHashMap)\n"
      ],
      "metadata": {
        "colab": {
          "base_uri": "https://localhost:8080/"
        },
        "id": "VjWh9LbxO1jg",
        "outputId": "d80b117e-0198-4a21-f47d-ede32b5bef94"
      },
      "execution_count": 25,
      "outputs": [
        {
          "output_type": "stream",
          "name": "stdout",
          "text": [
            "<__main__.MyHashMap object at 0x7c54f2ee82d0>\n"
          ]
        }
      ]
    },
    {
      "cell_type": "code",
      "source": [
        "print(myHashMap.get(1))\n",
        "print(myHashMap.get(2))\n",
        "print(myHashMap.get(3))\n"
      ],
      "metadata": {
        "colab": {
          "base_uri": "https://localhost:8080/"
        },
        "id": "ZG1eazTaO4SQ",
        "outputId": "096810b2-2ab1-4645-eaaf-3f05d088e131"
      },
      "execution_count": 26,
      "outputs": [
        {
          "output_type": "stream",
          "name": "stdout",
          "text": [
            "1\n",
            "2\n",
            "-1\n"
          ]
        }
      ]
    },
    {
      "cell_type": "code",
      "source": [
        "myHashMap.put(2,1)\n",
        "print(myHashMap)"
      ],
      "metadata": {
        "id": "ieZcpRC9PAye"
      },
      "execution_count": null,
      "outputs": []
    }
  ]
}